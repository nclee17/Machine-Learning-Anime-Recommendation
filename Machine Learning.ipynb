{
 "cells": [
  {
   "cell_type": "markdown",
   "metadata": {},
   "source": [
    "# Machine Learning: Anime Recommendation"
   ]
  },
  {
   "cell_type": "markdown",
   "metadata": {},
   "source": [
    "#### Data Collection"
   ]
  },
  {
   "cell_type": "code",
   "execution_count": 1,
   "metadata": {},
   "outputs": [],
   "source": [
    "import kaggle"
   ]
  },
  {
   "cell_type": "code",
   "execution_count": 2,
   "metadata": {},
   "outputs": [
    {
     "name": "stdout",
     "output_type": "stream",
     "text": [
      "Downloading anime-recommendations-database.zip to C:\\Users\\nclee\\Documents\\Education\\Ironhack\\Project-Anime\n",
      "\n"
     ]
    },
    {
     "name": "stderr",
     "output_type": "stream",
     "text": [
      "\n",
      "  0%|          | 0.00/25.0M [00:00<?, ?B/s]\n",
      "  4%|3         | 1.00M/25.0M [00:00<00:02, 8.98MB/s]\n",
      "  8%|7         | 2.00M/25.0M [00:00<00:02, 9.33MB/s]\n",
      " 12%|#1        | 3.00M/25.0M [00:00<00:02, 9.64MB/s]\n",
      " 20%|#9        | 5.00M/25.0M [00:00<00:02, 10.3MB/s]\n",
      " 24%|##3       | 6.00M/25.0M [00:00<00:02, 9.88MB/s]\n",
      " 28%|##7       | 7.00M/25.0M [00:00<00:02, 9.38MB/s]\n",
      " 36%|###5      | 9.00M/25.0M [00:01<00:02, 8.02MB/s]\n",
      " 44%|####3     | 11.0M/25.0M [00:01<00:01, 8.56MB/s]\n",
      " 52%|#####1    | 13.0M/25.0M [00:01<00:01, 9.19MB/s]\n",
      " 56%|#####5    | 14.0M/25.0M [00:01<00:01, 9.45MB/s]\n",
      " 60%|#####9    | 15.0M/25.0M [00:01<00:01, 9.61MB/s]\n",
      " 68%|######7   | 17.0M/25.0M [00:01<00:00, 10.2MB/s]\n",
      " 72%|#######1  | 18.0M/25.0M [00:01<00:00, 10.2MB/s]\n",
      " 76%|#######5  | 19.0M/25.0M [00:02<00:00, 9.95MB/s]\n",
      " 80%|#######9  | 20.0M/25.0M [00:02<00:00, 9.64MB/s]\n",
      " 88%|########7 | 22.0M/25.0M [00:02<00:00, 10.5MB/s]\n",
      " 96%|#########5| 24.0M/25.0M [00:02<00:00, 10.9MB/s]\n",
      "100%|##########| 25.0M/25.0M [00:02<00:00, 10.0MB/s]\n"
     ]
    }
   ],
   "source": [
    "!kaggle datasets download -d CooperUnion/anime-recommendations-database --unzip"
   ]
  },
  {
   "cell_type": "code",
   "execution_count": 85,
   "metadata": {},
   "outputs": [
    {
     "name": "stdout",
     "output_type": "stream",
     "text": [
      "Downloading 28524%2F45582%2Fcompressed%2FAnimeList.csv.zip to C:\\Users\\nclee\\Documents\\Education\\Ironhack\\Project-Anime\n",
      "\n"
     ]
    },
    {
     "name": "stderr",
     "output_type": "stream",
     "text": [
      "\n",
      "  0%|          | 0.00/3.02M [00:00<?, ?B/s]\n",
      " 33%|###3      | 1.00M/3.02M [00:00<00:00, 3.55MB/s]\n",
      " 66%|######6   | 2.00M/3.02M [00:00<00:00, 3.37MB/s]\n",
      " 99%|#########9| 3.00M/3.02M [00:00<00:00, 3.39MB/s]\n",
      "100%|##########| 3.02M/3.02M [00:00<00:00, 3.33MB/s]\n"
     ]
    }
   ],
   "source": [
    "!kaggle datasets download -d azathoth42/myanimelist -f AnimeList.csv --unzip"
   ]
  },
  {
   "cell_type": "code",
   "execution_count": 86,
   "metadata": {},
   "outputs": [],
   "source": [
    "import zipfile"
   ]
  },
  {
   "cell_type": "code",
   "execution_count": 88,
   "metadata": {},
   "outputs": [],
   "source": [
    "with zipfile.ZipFile(\"28524%2F45582%2Fcompressed%2FAnimeList.csv.zip\", 'r') as zip_ref:\n",
    "    zip_ref.extractall(\"\")"
   ]
  },
  {
   "cell_type": "markdown",
   "metadata": {},
   "source": [
    "##### Libraries"
   ]
  },
  {
   "cell_type": "code",
   "execution_count": 1,
   "metadata": {},
   "outputs": [],
   "source": [
    "import numpy as np\n",
    "import pandas as pd\n",
    "import matplotlib.pyplot as plt\n",
    "import seaborn as sns\n",
    "\n",
    "%matplotlib inline\n",
    "sns.set()\n",
    "plt.style.use('seaborn-whitegrid')\n",
    "sns.set_style(\"white\")\n",
    "\n",
    "import scipy.stats as st\n",
    "from sklearn.preprocessing import StandardScaler"
   ]
  },
  {
   "cell_type": "markdown",
   "metadata": {},
   "source": [
    "## Data PreparationStandardScaler"
   ]
  },
  {
   "cell_type": "code",
   "execution_count": 2,
   "metadata": {},
   "outputs": [],
   "source": [
    "anime=pd.read_csv(\"anime.csv\", index_col=\"anime_id\")"
   ]
  },
  {
   "cell_type": "code",
   "execution_count": 3,
   "metadata": {},
   "outputs": [
    {
     "data": {
      "text/plain": [
       "name          0\n",
       "genre        62\n",
       "type         25\n",
       "episodes      0\n",
       "rating      230\n",
       "members       0\n",
       "dtype: int64"
      ]
     },
     "execution_count": 3,
     "metadata": {},
     "output_type": "execute_result"
    }
   ],
   "source": [
    "anime.isna().sum()"
   ]
  },
  {
   "cell_type": "code",
   "execution_count": 4,
   "metadata": {},
   "outputs": [],
   "source": [
    "# dropping those with NA in \"genre\", \"type\", \"rating\"\n",
    "anime[anime.loc[:, [\"genre\", \"type\", \"rating\"]].isna().all(axis=1)]\n",
    "anime.drop(anime[anime.loc[:, [\"genre\", \"type\", \"rating\"]].isna().all(axis=1)].index, axis=0, inplace=True)"
   ]
  },
  {
   "cell_type": "code",
   "execution_count": 5,
   "metadata": {},
   "outputs": [],
   "source": [
    "# updated list to fill in the gaps in data\n",
    "animelist=pd.read_csv(\"AnimeList.csv\", index_col=\"anime_id\")"
   ]
  },
  {
   "cell_type": "code",
   "execution_count": 6,
   "metadata": {},
   "outputs": [],
   "source": [
    "# trying to fill in the missing type information from new animelist, there are still \"Unknown\"\n",
    "anime.type.fillna(animelist.type, inplace=True)"
   ]
  },
  {
   "cell_type": "code",
   "execution_count": 7,
   "metadata": {},
   "outputs": [],
   "source": [
    "# fill in the rest by research\n",
    "anime_type={34437: \"Movie\", 32455: \"TV\", 28613: \"TV\", 30448: \"TV\", 24023: \"TV\", 34348: \"TV\"}\n",
    "anime.loc[anime.type==\"Unknown\", \"type\"]=anime[anime.type==\"Unknown\"].index.map(anime_type)"
   ]
  },
  {
   "cell_type": "code",
   "execution_count": 8,
   "metadata": {},
   "outputs": [],
   "source": [
    "# creating a dummy column for airing using episode as an indicator\n",
    "anime[\"airing\"]=np.where(anime.episodes==\"Unknown\", 1, 0)"
   ]
  },
  {
   "cell_type": "code",
   "execution_count": 14,
   "metadata": {},
   "outputs": [],
   "source": [
    "anime[\"episodes\"]=np.where(anime.episodes==\"Unknown\", 0, anime.episodes)\n",
    "anime[\"episodes\"]=anime.episodes.astype(int)"
   ]
  },
  {
   "cell_type": "code",
   "execution_count": 15,
   "metadata": {},
   "outputs": [],
   "source": [
    "# creating a dummy column for whether it was NA for rating\n",
    "anime[\"rate_na\"]=np.where(anime.rating.isna(), 1, 0)"
   ]
  },
  {
   "cell_type": "code",
   "execution_count": 16,
   "metadata": {},
   "outputs": [],
   "source": [
    "# fill all the NA in rating as 0\n",
    "anime.rating.fillna(0, inplace=True)"
   ]
  },
  {
   "cell_type": "code",
   "execution_count": 17,
   "metadata": {},
   "outputs": [
    {
     "data": {
      "text/html": [
       "<div>\n",
       "<style scoped>\n",
       "    .dataframe tbody tr th:only-of-type {\n",
       "        vertical-align: middle;\n",
       "    }\n",
       "\n",
       "    .dataframe tbody tr th {\n",
       "        vertical-align: top;\n",
       "    }\n",
       "\n",
       "    .dataframe thead th {\n",
       "        text-align: right;\n",
       "    }\n",
       "</style>\n",
       "<table border=\"1\" class=\"dataframe\">\n",
       "  <thead>\n",
       "    <tr style=\"text-align: right;\">\n",
       "      <th></th>\n",
       "      <th>name</th>\n",
       "      <th>genre</th>\n",
       "      <th>type</th>\n",
       "      <th>episodes</th>\n",
       "      <th>rating</th>\n",
       "      <th>members</th>\n",
       "      <th>airing</th>\n",
       "      <th>rate_na</th>\n",
       "    </tr>\n",
       "  </thead>\n",
       "  <tbody>\n",
       "    <tr>\n",
       "      <th>count</th>\n",
       "      <td>12291</td>\n",
       "      <td>12232</td>\n",
       "      <td>12291</td>\n",
       "      <td>12291.000000</td>\n",
       "      <td>12291.000000</td>\n",
       "      <td>1.229100e+04</td>\n",
       "      <td>12291.000000</td>\n",
       "      <td>12291.000000</td>\n",
       "    </tr>\n",
       "    <tr>\n",
       "      <th>unique</th>\n",
       "      <td>12289</td>\n",
       "      <td>3264</td>\n",
       "      <td>6</td>\n",
       "      <td>NaN</td>\n",
       "      <td>NaN</td>\n",
       "      <td>NaN</td>\n",
       "      <td>NaN</td>\n",
       "      <td>NaN</td>\n",
       "    </tr>\n",
       "    <tr>\n",
       "      <th>top</th>\n",
       "      <td>Shi Wan Ge Leng Xiaohua</td>\n",
       "      <td>Hentai</td>\n",
       "      <td>TV</td>\n",
       "      <td>NaN</td>\n",
       "      <td>NaN</td>\n",
       "      <td>NaN</td>\n",
       "      <td>NaN</td>\n",
       "      <td>NaN</td>\n",
       "    </tr>\n",
       "    <tr>\n",
       "      <th>freq</th>\n",
       "      <td>2</td>\n",
       "      <td>823</td>\n",
       "      <td>3805</td>\n",
       "      <td>NaN</td>\n",
       "      <td>NaN</td>\n",
       "      <td>NaN</td>\n",
       "      <td>NaN</td>\n",
       "      <td>NaN</td>\n",
       "    </tr>\n",
       "    <tr>\n",
       "      <th>mean</th>\n",
       "      <td>NaN</td>\n",
       "      <td>NaN</td>\n",
       "      <td>NaN</td>\n",
       "      <td>12.043040</td>\n",
       "      <td>6.354337</td>\n",
       "      <td>1.807560e+04</td>\n",
       "      <td>0.027418</td>\n",
       "      <td>0.018469</td>\n",
       "    </tr>\n",
       "    <tr>\n",
       "      <th>std</th>\n",
       "      <td>NaN</td>\n",
       "      <td>NaN</td>\n",
       "      <td>NaN</td>\n",
       "      <td>46.262561</td>\n",
       "      <td>1.339610</td>\n",
       "      <td>5.482669e+04</td>\n",
       "      <td>0.163306</td>\n",
       "      <td>0.134645</td>\n",
       "    </tr>\n",
       "    <tr>\n",
       "      <th>min</th>\n",
       "      <td>NaN</td>\n",
       "      <td>NaN</td>\n",
       "      <td>NaN</td>\n",
       "      <td>0.000000</td>\n",
       "      <td>0.000000</td>\n",
       "      <td>5.000000e+00</td>\n",
       "      <td>0.000000</td>\n",
       "      <td>0.000000</td>\n",
       "    </tr>\n",
       "    <tr>\n",
       "      <th>25%</th>\n",
       "      <td>NaN</td>\n",
       "      <td>NaN</td>\n",
       "      <td>NaN</td>\n",
       "      <td>1.000000</td>\n",
       "      <td>5.820000</td>\n",
       "      <td>2.255000e+02</td>\n",
       "      <td>0.000000</td>\n",
       "      <td>0.000000</td>\n",
       "    </tr>\n",
       "    <tr>\n",
       "      <th>50%</th>\n",
       "      <td>NaN</td>\n",
       "      <td>NaN</td>\n",
       "      <td>NaN</td>\n",
       "      <td>2.000000</td>\n",
       "      <td>6.550000</td>\n",
       "      <td>1.551000e+03</td>\n",
       "      <td>0.000000</td>\n",
       "      <td>0.000000</td>\n",
       "    </tr>\n",
       "    <tr>\n",
       "      <th>75%</th>\n",
       "      <td>NaN</td>\n",
       "      <td>NaN</td>\n",
       "      <td>NaN</td>\n",
       "      <td>12.000000</td>\n",
       "      <td>7.170000</td>\n",
       "      <td>9.443000e+03</td>\n",
       "      <td>0.000000</td>\n",
       "      <td>0.000000</td>\n",
       "    </tr>\n",
       "    <tr>\n",
       "      <th>max</th>\n",
       "      <td>NaN</td>\n",
       "      <td>NaN</td>\n",
       "      <td>NaN</td>\n",
       "      <td>1818.000000</td>\n",
       "      <td>10.000000</td>\n",
       "      <td>1.013917e+06</td>\n",
       "      <td>1.000000</td>\n",
       "      <td>1.000000</td>\n",
       "    </tr>\n",
       "  </tbody>\n",
       "</table>\n",
       "</div>"
      ],
      "text/plain": [
       "                           name   genre   type      episodes        rating  \\\n",
       "count                     12291   12232  12291  12291.000000  12291.000000   \n",
       "unique                    12289    3264      6           NaN           NaN   \n",
       "top     Shi Wan Ge Leng Xiaohua  Hentai     TV           NaN           NaN   \n",
       "freq                          2     823   3805           NaN           NaN   \n",
       "mean                        NaN     NaN    NaN     12.043040      6.354337   \n",
       "std                         NaN     NaN    NaN     46.262561      1.339610   \n",
       "min                         NaN     NaN    NaN      0.000000      0.000000   \n",
       "25%                         NaN     NaN    NaN      1.000000      5.820000   \n",
       "50%                         NaN     NaN    NaN      2.000000      6.550000   \n",
       "75%                         NaN     NaN    NaN     12.000000      7.170000   \n",
       "max                         NaN     NaN    NaN   1818.000000     10.000000   \n",
       "\n",
       "             members        airing       rate_na  \n",
       "count   1.229100e+04  12291.000000  12291.000000  \n",
       "unique           NaN           NaN           NaN  \n",
       "top              NaN           NaN           NaN  \n",
       "freq             NaN           NaN           NaN  \n",
       "mean    1.807560e+04      0.027418      0.018469  \n",
       "std     5.482669e+04      0.163306      0.134645  \n",
       "min     5.000000e+00      0.000000      0.000000  \n",
       "25%     2.255000e+02      0.000000      0.000000  \n",
       "50%     1.551000e+03      0.000000      0.000000  \n",
       "75%     9.443000e+03      0.000000      0.000000  \n",
       "max     1.013917e+06      1.000000      1.000000  "
      ]
     },
     "execution_count": 17,
     "metadata": {},
     "output_type": "execute_result"
    }
   ],
   "source": [
    "anime.describe(include=\"all\")"
   ]
  },
  {
   "cell_type": "code",
   "execution_count": 18,
   "metadata": {},
   "outputs": [
    {
     "data": {
      "text/plain": [
       "TV         0.309576\n",
       "OVA        0.269384\n",
       "Movie      0.191360\n",
       "Special    0.136360\n",
       "ONA        0.053616\n",
       "Music      0.039704\n",
       "Name: type, dtype: float64"
      ]
     },
     "execution_count": 18,
     "metadata": {},
     "output_type": "execute_result"
    }
   ],
   "source": [
    "# should we group them into 5 instead of 6?\n",
    "anime.type.value_counts(normalize=True)"
   ]
  },
  {
   "cell_type": "code",
   "execution_count": 19,
   "metadata": {},
   "outputs": [],
   "source": [
    "anime[\"type\"]=np.where(anime.type.isin([\"ONA\", \"Music\"]), \"Other\", anime.type)"
   ]
  },
  {
   "cell_type": "code",
   "execution_count": 20,
   "metadata": {},
   "outputs": [],
   "source": [
    "# standardize the data for members\n",
    "scaler=StandardScaler()\n",
    "anime[[\"episode\", \"rating\", \"members\"]]=scaler.fit_transform(anime[[\"episodes\", \"rating\", \"members\"]])\n"
   ]
  },
  {
   "cell_type": "code",
   "execution_count": 21,
   "metadata": {},
   "outputs": [],
   "source": [
    "# dummies\n",
    "dummy_col=[\"type\"]\n",
    "anime=pd.get_dummies(data=anime, columns=dummy_col,drop_first=True)"
   ]
  },
  {
   "cell_type": "code",
   "execution_count": 22,
   "metadata": {
    "scrolled": true
   },
   "outputs": [
    {
     "data": {
      "text/plain": [
       "59"
      ]
     },
     "execution_count": 22,
     "metadata": {},
     "output_type": "execute_result"
    }
   ],
   "source": [
    "# Missing values in genre\n",
    "missingvalues_genre = anime[anime.genre.isnull()]\n",
    "missingvalues_genre_titles = missingvalues_genre.index.tolist()\n",
    "len(missingvalues_genre_titles)"
   ]
  },
  {
   "cell_type": "code",
   "execution_count": 23,
   "metadata": {},
   "outputs": [
    {
     "data": {
      "text/plain": [
       "40"
      ]
     },
     "execution_count": 23,
     "metadata": {},
     "output_type": "execute_result"
    }
   ],
   "source": [
    "# Cross-referencing our missing values with the newest version of the dataset\n",
    "animelist[animelist.index.isin(missingvalues_genre_titles)]\n",
    "\n",
    "# Filling the missing values that are available in the newest version of the dataset\n",
    "anime['genre'] = anime['genre'].fillna(animelist['genre'])\n",
    "anime['genre'].isnull().sum()"
   ]
  },
  {
   "cell_type": "code",
   "execution_count": 24,
   "metadata": {},
   "outputs": [],
   "source": [
    "# Research and replace the remaining missing values \n",
    "anime.at[29765, 'genre'] = 'Short' #Metropolis (2009)\n",
    "anime.at[32695, 'genre'] = 'Fantasy' #Match Shoujo\n",
    "anime.at[33187, 'genre'] = 'Short' #Katsudou Shashin\n",
    "anime.at[30862, 'genre'] = 'Short' #Yubi wo Nusunda Onna\n",
    "anime.at[28987, 'genre'] = 'Short' #Kamakura\n",
    "anime.at[29629, 'genre'] = 'Short' #Coffee Break\n",
    "anime.at[28653, 'genre'] = 'Short' #Maze\n",
    "anime.at[31834, 'genre'] = 'Short' #Mormorando\n",
    "anime.at[31760, 'genre'] = 'Short' #Tsuru Shitae Waka Kan\n",
    "anime.at[31831, 'genre'] = 'Short' #Fantasy\n",
    "anime.at[31833, 'genre'] = 'Short' #Metamorphose\n",
    "anime.at[30399, 'genre'] = 'Short' #Arigatou Gomennasai\n",
    "anime.at[28655, 'genre'] = 'Short' #PiKA PiKA\n",
    "anime.at[31832, 'genre'] = 'Short' #Zawazawa\n",
    "anime.at[28647, 'genre'] = 'Short' #Kappo\n",
    "anime.at[29764, 'genre'] = 'Short' #Blend\n",
    "anime.at[29921, 'genre'] = 'Short' #Bunbuku Chagama (1958)\n",
    "anime.at[29655, 'genre'] = 'Short' #Chanda Gou\n",
    "anime.at[29923, 'genre'] = 'Short' #Fukusuke\n",
    "anime.at[30861, 'genre'] = 'Short' #Happy Bogeys\n",
    "anime.at[32636, 'genre'] = 'Short' #Hokori Inu no Hanashi\n",
    "anime.at[31511, 'genre'] = 'Short' #Holiday\n",
    "anime.at[31509, 'genre'] = 'Short' #Ichi-gan Kuni\n",
    "anime.at[29920, 'genre'] = 'Short' #Kobutori (1957)\n",
    "anime.at[30055, 'genre'] = 'Adventure' #Mabeob Chunjamun: Daemawangui Buhwaleul Magala\n",
    "anime.at[29767, 'genre'] = 'Short' #Minamo\n",
    "anime.at[29922, 'genre'] = 'Short' #Ou-sama Ninatta Kitsune\n",
    "anime.at[33318, 'genre'] = 'Short' #Scripta Volant\n",
    "anime.at[31508, 'genre'] = 'Short' #Shinya Doubutsuen\n",
    "anime.at[33320, 'genre'] = 'Short' #Suijun Genten\n",
    "anime.at[30408, 'genre'] = 'Short' #Tokyo SOS\n",
    "anime.at[33319, 'genre'] = 'Short' #Wareware no Heya\n",
    "anime.at[32644, 'genre'] = 'Short' #Yaseruyagi\n",
    "anime.at[33388, 'genre'] = 'Adventure' #Charanpo Shima no Monogatari\n",
    "anime.at[33389, 'genre'] = 'Fantasy' #Genba no Joukitsune\n",
    "anime.at[34310, 'genre'] = 'Kids' #Tamagotchi Movie: Tanpen Himitsu no Otodoke Daisakusen!\n",
    "anime.at[33390, 'genre'] = 'Action' #Zunda Horizon"
   ]
  },
  {
   "cell_type": "code",
   "execution_count": null,
   "metadata": {},
   "outputs": [],
   "source": []
  },
  {
   "cell_type": "code",
   "execution_count": null,
   "metadata": {},
   "outputs": [],
   "source": []
  },
  {
   "cell_type": "code",
   "execution_count": 25,
   "metadata": {},
   "outputs": [
    {
     "data": {
      "text/html": [
       "<div>\n",
       "<style scoped>\n",
       "    .dataframe tbody tr th:only-of-type {\n",
       "        vertical-align: middle;\n",
       "    }\n",
       "\n",
       "    .dataframe tbody tr th {\n",
       "        vertical-align: top;\n",
       "    }\n",
       "\n",
       "    .dataframe thead th {\n",
       "        text-align: right;\n",
       "    }\n",
       "</style>\n",
       "<table border=\"1\" class=\"dataframe\">\n",
       "  <thead>\n",
       "    <tr style=\"text-align: right;\">\n",
       "      <th></th>\n",
       "      <th>name</th>\n",
       "      <th>genre</th>\n",
       "      <th>episodes</th>\n",
       "      <th>rating</th>\n",
       "      <th>members</th>\n",
       "      <th>airing</th>\n",
       "      <th>rate_na</th>\n",
       "      <th>episode</th>\n",
       "      <th>type_OVA</th>\n",
       "      <th>type_Other</th>\n",
       "      <th>type_Special</th>\n",
       "      <th>type_TV</th>\n",
       "    </tr>\n",
       "    <tr>\n",
       "      <th>anime_id</th>\n",
       "      <th></th>\n",
       "      <th></th>\n",
       "      <th></th>\n",
       "      <th></th>\n",
       "      <th></th>\n",
       "      <th></th>\n",
       "      <th></th>\n",
       "      <th></th>\n",
       "      <th></th>\n",
       "      <th></th>\n",
       "      <th></th>\n",
       "      <th></th>\n",
       "    </tr>\n",
       "  </thead>\n",
       "  <tbody>\n",
       "    <tr>\n",
       "      <th>28487</th>\n",
       "      <td>Ikite Iru</td>\n",
       "      <td>NaN</td>\n",
       "      <td>1</td>\n",
       "      <td>-0.451147</td>\n",
       "      <td>-0.328934</td>\n",
       "      <td>0</td>\n",
       "      <td>0</td>\n",
       "      <td>-0.238713</td>\n",
       "      <td>1</td>\n",
       "      <td>0</td>\n",
       "      <td>0</td>\n",
       "      <td>0</td>\n",
       "    </tr>\n",
       "    <tr>\n",
       "      <th>30435</th>\n",
       "      <td>Kankou Taisen Saitama: Sakuya no Tatakai</td>\n",
       "      <td>NaN</td>\n",
       "      <td>4</td>\n",
       "      <td>-1.578386</td>\n",
       "      <td>-0.327821</td>\n",
       "      <td>0</td>\n",
       "      <td>0</td>\n",
       "      <td>-0.173863</td>\n",
       "      <td>0</td>\n",
       "      <td>1</td>\n",
       "      <td>0</td>\n",
       "      <td>0</td>\n",
       "    </tr>\n",
       "    <tr>\n",
       "      <th>31078</th>\n",
       "      <td>PikkaPika Summer</td>\n",
       "      <td>NaN</td>\n",
       "      <td>31</td>\n",
       "      <td>-0.510868</td>\n",
       "      <td>-0.327949</td>\n",
       "      <td>0</td>\n",
       "      <td>0</td>\n",
       "      <td>0.409786</td>\n",
       "      <td>0</td>\n",
       "      <td>0</td>\n",
       "      <td>0</td>\n",
       "      <td>1</td>\n",
       "    </tr>\n",
       "  </tbody>\n",
       "</table>\n",
       "</div>"
      ],
      "text/plain": [
       "                                              name genre  episodes    rating  \\\n",
       "anime_id                                                                       \n",
       "28487                                    Ikite Iru   NaN         1 -0.451147   \n",
       "30435     Kankou Taisen Saitama: Sakuya no Tatakai   NaN         4 -1.578386   \n",
       "31078                             PikkaPika Summer   NaN        31 -0.510868   \n",
       "\n",
       "           members  airing  rate_na   episode  type_OVA  type_Other  \\\n",
       "anime_id                                                              \n",
       "28487    -0.328934       0        0 -0.238713         1           0   \n",
       "30435    -0.327821       0        0 -0.173863         0           1   \n",
       "31078    -0.327949       0        0  0.409786         0           0   \n",
       "\n",
       "          type_Special  type_TV  \n",
       "anime_id                         \n",
       "28487                0        0  \n",
       "30435                0        0  \n",
       "31078                0        1  "
      ]
     },
     "execution_count": 25,
     "metadata": {},
     "output_type": "execute_result"
    }
   ],
   "source": [
    "# Check again for missing values to be sure\n",
    "anime[anime['genre'].isnull()]"
   ]
  },
  {
   "cell_type": "code",
   "execution_count": 26,
   "metadata": {},
   "outputs": [
    {
     "data": {
      "text/plain": [
       "(12288, 12)"
      ]
     },
     "execution_count": 26,
     "metadata": {},
     "output_type": "execute_result"
    }
   ],
   "source": [
    "# Drop the three titles where we couldn't find the genre \n",
    "anime.drop(anime[anime['genre'].isnull()].index, inplace=True)\n",
    "anime.shape"
   ]
  },
  {
   "cell_type": "code",
   "execution_count": 27,
   "metadata": {},
   "outputs": [
    {
     "data": {
      "text/plain": [
       "3272"
      ]
     },
     "execution_count": 27,
     "metadata": {},
     "output_type": "execute_result"
    }
   ],
   "source": [
    "# Genre has way too many unique values!\n",
    "anime.genre.nunique()"
   ]
  },
  {
   "cell_type": "code",
   "execution_count": 28,
   "metadata": {},
   "outputs": [
    {
     "data": {
      "text/plain": [
       "Hentai                                                              823\n",
       "Comedy                                                              524\n",
       "Music                                                               303\n",
       "Kids                                                                200\n",
       "Comedy, Slice of Life                                               179\n",
       "                                                                   ... \n",
       "Adventure, Comedy, Demons, Fantasy, Magic, Martial Arts, Shounen      1\n",
       "Kids, Music, School, Slice of Life                                    1\n",
       "Comedy, Ecchi, Magic, Sci-Fi, Seinen                                  1\n",
       "Comedy, Mystery, School, Shounen, Super Power                         1\n",
       "Action, Drama, Police, School, Shoujo                                 1\n",
       "Name: genre, Length: 3272, dtype: int64"
      ]
     },
     "execution_count": 28,
     "metadata": {},
     "output_type": "execute_result"
    }
   ],
   "source": [
    "anime.genre.value_counts()"
   ]
  },
  {
   "cell_type": "code",
   "execution_count": 29,
   "metadata": {},
   "outputs": [
    {
     "data": {
      "text/plain": [
       "Hentai                                                              0.066976\n",
       "Comedy                                                              0.042643\n",
       "Music                                                               0.024658\n",
       "Kids                                                                0.016276\n",
       "Comedy, Slice of Life                                               0.014567\n",
       "                                                                      ...   \n",
       "Adventure, Comedy, Demons, Fantasy, Magic, Martial Arts, Shounen    0.000081\n",
       "Kids, Music, School, Slice of Life                                  0.000081\n",
       "Comedy, Ecchi, Magic, Sci-Fi, Seinen                                0.000081\n",
       "Comedy, Mystery, School, Shounen, Super Power                       0.000081\n",
       "Action, Drama, Police, School, Shoujo                               0.000081\n",
       "Name: genre, Length: 3272, dtype: float64"
      ]
     },
     "execution_count": 29,
     "metadata": {},
     "output_type": "execute_result"
    }
   ],
   "source": [
    "anime.genre.value_counts(normalize=True)"
   ]
  },
  {
   "cell_type": "code",
   "execution_count": 30,
   "metadata": {},
   "outputs": [
    {
     "data": {
      "text/plain": [
       "(9436, 12)"
      ]
     },
     "execution_count": 30,
     "metadata": {},
     "output_type": "execute_result"
    }
   ],
   "source": [
    "# number of anime with multiple genres \n",
    "anime[anime.genre.str.contains(\",\")].shape"
   ]
  },
  {
   "cell_type": "code",
   "execution_count": 31,
   "metadata": {},
   "outputs": [
    {
     "name": "stdout",
     "output_type": "stream",
     "text": [
      "36356 values\n",
      "44 unique values\n"
     ]
    }
   ],
   "source": [
    "# explore the variety of genre within anime\n",
    "log=[j.strip(r\" \") for i in anime.genre.str.lower().dropna().values for j in i.split(\",\")]\n",
    "print(len(log), 'values')\n",
    "print(len(set(log)), 'unique values')"
   ]
  },
  {
   "cell_type": "code",
   "execution_count": 32,
   "metadata": {},
   "outputs": [
    {
     "data": {
      "text/plain": [
       "comedy           4649\n",
       "action           2849\n",
       "adventure        2350\n",
       "fantasy          2315\n",
       "sci-fi           2070\n",
       "drama            2018\n",
       "shounen          1712\n",
       "kids             1610\n",
       "romance          1466\n",
       "slice of life    1224\n",
       "school           1222\n",
       "hentai           1141\n",
       "supernatural     1038\n",
       "mecha             944\n",
       "music             862\n",
       "historical        808\n",
       "magic             779\n",
       "ecchi             637\n",
       "shoujo            604\n",
       "seinen            547\n",
       "sports            543\n",
       "mystery           495\n",
       "super power       465\n",
       "military          426\n",
       "parody            408\n",
       "space             381\n",
       "horror            369\n",
       "harem             319\n",
       "demons            294\n",
       "martial arts      266\n",
       "dementia          243\n",
       "psychological     229\n",
       "police            197\n",
       "game              181\n",
       "samurai           148\n",
       "vampire           102\n",
       "thriller           87\n",
       "cars               72\n",
       "shounen ai         65\n",
       "shoujo ai          55\n",
       "josei              54\n",
       "yuri               42\n",
       "yaoi               39\n",
       "short              31\n",
       "dtype: int64"
      ]
     },
     "execution_count": 32,
     "metadata": {},
     "output_type": "execute_result"
    }
   ],
   "source": [
    "# frequency of each genre mentioned in the dataset\n",
    "pd.Series(log).value_counts()"
   ]
  },
  {
   "cell_type": "code",
   "execution_count": 33,
   "metadata": {},
   "outputs": [],
   "source": [
    "# splitting the multiple genre\n",
    "dummies=anime.genre.str.split(\", \", expand=True)"
   ]
  },
  {
   "cell_type": "code",
   "execution_count": 34,
   "metadata": {},
   "outputs": [],
   "source": [
    "# making dummies columns\n",
    "dummies=dummies.stack().str.get_dummies().sum(level=0)"
   ]
  },
  {
   "cell_type": "code",
   "execution_count": 41,
   "metadata": {},
   "outputs": [],
   "source": [
    "# prepare dataframe for analysis\n",
    "df=pd.concat([anime, dummies], axis=1).drop([\"genre\", \"name\"], axis=1)"
   ]
  },
  {
   "cell_type": "markdown",
   "metadata": {},
   "source": [
    "## Exploratory Data Analysis"
   ]
  },
  {
   "cell_type": "code",
   "execution_count": null,
   "metadata": {},
   "outputs": [],
   "source": [
    "from pandas_profiling import ProfileReport\n",
    "prof = ProfileReport(anime)\n",
    "prof.to_file(output_file='output.html')"
   ]
  },
  {
   "cell_type": "markdown",
   "metadata": {},
   "source": [
    "## Unstructured Learning"
   ]
  },
  {
   "cell_type": "markdown",
   "metadata": {},
   "source": [
    "### scikit-cmeans"
   ]
  },
  {
   "cell_type": "code",
   "execution_count": 45,
   "metadata": {},
   "outputs": [],
   "source": [
    "from skcmeans.algorithms import Probabilistic, GustafsonKesselMixin"
   ]
  },
  {
   "cell_type": "code",
   "execution_count": 87,
   "metadata": {},
   "outputs": [
    {
     "data": {
      "text/plain": [
       "<skcmeans.algorithms.Probabilistic at 0x17c10219a60>"
      ]
     },
     "execution_count": 87,
     "metadata": {},
     "output_type": "execute_result"
    }
   ],
   "source": [
    "clusterer = Probabilistic(n_clusters=7, n_init=1000)\n",
    "clusterer.fit(df.values)"
   ]
  },
  {
   "cell_type": "code",
   "execution_count": 88,
   "metadata": {},
   "outputs": [
    {
     "ename": "AttributeError",
     "evalue": "'Probabilistic' object has no attribute 'u'",
     "output_type": "error",
     "traceback": [
      "\u001b[1;31m---------------------------------------------------------------------------\u001b[0m",
      "\u001b[1;31mAttributeError\u001b[0m                            Traceback (most recent call last)",
      "\u001b[1;32m<ipython-input-88-844630a8c6f1>\u001b[0m in \u001b[0;36m<module>\u001b[1;34m\u001b[0m\n\u001b[1;32m----> 1\u001b[1;33m \u001b[0mclusterer\u001b[0m\u001b[1;33m.\u001b[0m\u001b[0mu\u001b[0m\u001b[1;33m\u001b[0m\u001b[1;33m\u001b[0m\u001b[0m\n\u001b[0m",
      "\u001b[1;31mAttributeError\u001b[0m: 'Probabilistic' object has no attribute 'u'"
     ]
    }
   ],
   "source": [
    "clusterer.u"
   ]
  },
  {
   "cell_type": "code",
   "execution_count": 90,
   "metadata": {},
   "outputs": [
    {
     "name": "stderr",
     "output_type": "stream",
     "text": [
      "c:\\users\\nclee\\appdata\\local\\programs\\python\\python38\\lib\\site-packages\\sklearn\\utils\\deprecation.py:144: FutureWarning: The sklearn.metrics.classification module is  deprecated in version 0.22 and will be removed in version 0.24. The corresponding classes / functions should instead be imported from sklearn.metrics. Anything that cannot be imported from sklearn.metrics is now part of the private API.\n",
      "  warnings.warn(message, FutureWarning)\n"
     ]
    }
   ],
   "source": [
    "from yellowbrick.cluster import KElbowVisualizer"
   ]
  },
  {
   "cell_type": "code",
   "execution_count": 94,
   "metadata": {
    "collapsed": true,
    "jupyter": {
     "outputs_hidden": true
    }
   },
   "outputs": [
    {
     "ename": "YellowbrickTypeError",
     "evalue": "The supplied model is not a clustering estimator; try a classifier or regression score visualizer instead!",
     "output_type": "error",
     "traceback": [
      "\u001b[1;31m---------------------------------------------------------------------------\u001b[0m",
      "\u001b[1;31mYellowbrickTypeError\u001b[0m                      Traceback (most recent call last)",
      "\u001b[1;32m<ipython-input-94-e8f3505acc1e>\u001b[0m in \u001b[0;36m<module>\u001b[1;34m\u001b[0m\n\u001b[1;32m----> 1\u001b[1;33m \u001b[0mvisualizer\u001b[0m \u001b[1;33m=\u001b[0m \u001b[0mKElbowVisualizer\u001b[0m\u001b[1;33m(\u001b[0m\u001b[0mfcm\u001b[0m\u001b[1;33m,\u001b[0m \u001b[0mk\u001b[0m\u001b[1;33m=\u001b[0m\u001b[1;33m(\u001b[0m\u001b[1;36m2\u001b[0m\u001b[1;33m,\u001b[0m\u001b[1;36m5\u001b[0m\u001b[1;33m)\u001b[0m\u001b[1;33m,\u001b[0m \u001b[0mmetric\u001b[0m\u001b[1;33m=\u001b[0m\u001b[1;34m'distortion'\u001b[0m\u001b[1;33m,\u001b[0m \u001b[0mtimings\u001b[0m\u001b[1;33m=\u001b[0m\u001b[1;32mFalse\u001b[0m\u001b[1;33m,\u001b[0m \u001b[0mlocate_elbow\u001b[0m\u001b[1;33m=\u001b[0m\u001b[1;32mFalse\u001b[0m\u001b[1;33m)\u001b[0m\u001b[1;33m\u001b[0m\u001b[1;33m\u001b[0m\u001b[0m\n\u001b[0m\u001b[0;32m      2\u001b[0m \u001b[1;33m\u001b[0m\u001b[0m\n\u001b[0;32m      3\u001b[0m \u001b[0mvisualizer\u001b[0m\u001b[1;33m.\u001b[0m\u001b[0mfit\u001b[0m\u001b[1;33m(\u001b[0m\u001b[0mdf\u001b[0m\u001b[1;33m)\u001b[0m        \u001b[1;31m# Fit the data to the visualizer\u001b[0m\u001b[1;33m\u001b[0m\u001b[1;33m\u001b[0m\u001b[0m\n\u001b[0;32m      4\u001b[0m \u001b[0mvisualizer\u001b[0m\u001b[1;33m.\u001b[0m\u001b[0mshow\u001b[0m\u001b[1;33m(\u001b[0m\u001b[1;33m)\u001b[0m\u001b[1;33m\u001b[0m\u001b[1;33m\u001b[0m\u001b[0m\n",
      "\u001b[1;32mc:\\users\\nclee\\appdata\\local\\programs\\python\\python38\\lib\\site-packages\\yellowbrick\\cluster\\elbow.py\u001b[0m in \u001b[0;36m__init__\u001b[1;34m(self, model, ax, k, metric, timings, locate_elbow, **kwargs)\u001b[0m\n\u001b[0;32m    245\u001b[0m         \u001b[1;33m**\u001b[0m\u001b[0mkwargs\u001b[0m\u001b[1;33m\u001b[0m\u001b[1;33m\u001b[0m\u001b[0m\n\u001b[0;32m    246\u001b[0m     ):\n\u001b[1;32m--> 247\u001b[1;33m         \u001b[0msuper\u001b[0m\u001b[1;33m(\u001b[0m\u001b[0mKElbowVisualizer\u001b[0m\u001b[1;33m,\u001b[0m \u001b[0mself\u001b[0m\u001b[1;33m)\u001b[0m\u001b[1;33m.\u001b[0m\u001b[0m__init__\u001b[0m\u001b[1;33m(\u001b[0m\u001b[0mmodel\u001b[0m\u001b[1;33m,\u001b[0m \u001b[0max\u001b[0m\u001b[1;33m=\u001b[0m\u001b[0max\u001b[0m\u001b[1;33m,\u001b[0m \u001b[1;33m**\u001b[0m\u001b[0mkwargs\u001b[0m\u001b[1;33m)\u001b[0m\u001b[1;33m\u001b[0m\u001b[1;33m\u001b[0m\u001b[0m\n\u001b[0m\u001b[0;32m    248\u001b[0m \u001b[1;33m\u001b[0m\u001b[0m\n\u001b[0;32m    249\u001b[0m         \u001b[1;31m# Get the scoring method\u001b[0m\u001b[1;33m\u001b[0m\u001b[1;33m\u001b[0m\u001b[1;33m\u001b[0m\u001b[0m\n",
      "\u001b[1;32mc:\\users\\nclee\\appdata\\local\\programs\\python\\python38\\lib\\site-packages\\yellowbrick\\cluster\\base.py\u001b[0m in \u001b[0;36m__init__\u001b[1;34m(self, model, ax, fig, force_model, **kwargs)\u001b[0m\n\u001b[0;32m     43\u001b[0m     \u001b[1;32mdef\u001b[0m \u001b[0m__init__\u001b[0m\u001b[1;33m(\u001b[0m\u001b[0mself\u001b[0m\u001b[1;33m,\u001b[0m \u001b[0mmodel\u001b[0m\u001b[1;33m,\u001b[0m \u001b[0max\u001b[0m\u001b[1;33m=\u001b[0m\u001b[1;32mNone\u001b[0m\u001b[1;33m,\u001b[0m \u001b[0mfig\u001b[0m\u001b[1;33m=\u001b[0m\u001b[1;32mNone\u001b[0m\u001b[1;33m,\u001b[0m \u001b[0mforce_model\u001b[0m\u001b[1;33m=\u001b[0m\u001b[1;32mFalse\u001b[0m\u001b[1;33m,\u001b[0m \u001b[1;33m**\u001b[0m\u001b[0mkwargs\u001b[0m\u001b[1;33m)\u001b[0m\u001b[1;33m:\u001b[0m\u001b[1;33m\u001b[0m\u001b[1;33m\u001b[0m\u001b[0m\n\u001b[0;32m     44\u001b[0m         \u001b[1;32mif\u001b[0m \u001b[1;32mnot\u001b[0m \u001b[0mforce_model\u001b[0m \u001b[1;32mand\u001b[0m \u001b[1;32mnot\u001b[0m \u001b[0misclusterer\u001b[0m\u001b[1;33m(\u001b[0m\u001b[0mmodel\u001b[0m\u001b[1;33m)\u001b[0m\u001b[1;33m:\u001b[0m\u001b[1;33m\u001b[0m\u001b[1;33m\u001b[0m\u001b[0m\n\u001b[1;32m---> 45\u001b[1;33m             raise YellowbrickTypeError(\n\u001b[0m\u001b[0;32m     46\u001b[0m                 \u001b[1;34m\"The supplied model is not a clustering estimator; try a \"\u001b[0m\u001b[1;33m\u001b[0m\u001b[1;33m\u001b[0m\u001b[0m\n\u001b[0;32m     47\u001b[0m                 \u001b[1;34m\"classifier or regression score visualizer instead!\"\u001b[0m\u001b[1;33m\u001b[0m\u001b[1;33m\u001b[0m\u001b[0m\n",
      "\u001b[1;31mYellowbrickTypeError\u001b[0m: The supplied model is not a clustering estimator; try a classifier or regression score visualizer instead!"
     ]
    }
   ],
   "source": [
    "model = FCM()\n",
    "visualizer = KElbowVisualizer(model, k=(2,5), metric='distortion', timings=False, locate_elbow=False)\n",
    "\n",
    "visualizer.fit(df)        # Fit the data to the visualizer\n",
    "visualizer.show() "
   ]
  },
  {
   "cell_type": "code",
   "execution_count": 48,
   "metadata": {},
   "outputs": [],
   "source": [
    "from fcmeans import FCM"
   ]
  },
  {
   "cell_type": "code",
   "execution_count": 49,
   "metadata": {},
   "outputs": [
    {
     "data": {
      "text/plain": [
       "<fcmeans.fcm.FCM at 0x17c14d8eaf0>"
      ]
     },
     "execution_count": 49,
     "metadata": {},
     "output_type": "execute_result"
    }
   ],
   "source": [
    "fcm = FCM(n_clusters=3)\n",
    "fcm.fit(df)"
   ]
  },
  {
   "cell_type": "code",
   "execution_count": 50,
   "metadata": {},
   "outputs": [],
   "source": [
    "fcm_centers = fcm.centers\n",
    "fcm_labels  = fcm.u.argmax(axis=1)"
   ]
  },
  {
   "cell_type": "code",
   "execution_count": 62,
   "metadata": {},
   "outputs": [
    {
     "data": {
      "text/plain": [
       "array([2, 0, 0, ..., 2, 2, 2], dtype=int64)"
      ]
     },
     "execution_count": 62,
     "metadata": {},
     "output_type": "execute_result"
    }
   ],
   "source": [
    "fcm_labels"
   ]
  },
  {
   "cell_type": "code",
   "execution_count": 66,
   "metadata": {},
   "outputs": [
    {
     "data": {
      "text/plain": [
       "array([[1.00159163e-02, 1.71153030e-05, 9.89966968e-01],\n",
       "       [9.43029051e-01, 1.12473712e-04, 5.68584748e-02],\n",
       "       [9.58560273e-01, 4.64083525e-05, 4.13933187e-02],\n",
       "       ...,\n",
       "       [1.18483601e-03, 1.82518497e-06, 9.98813339e-01],\n",
       "       [5.11652901e-03, 8.70975920e-06, 9.94874761e-01],\n",
       "       [4.85095129e-03, 8.25319687e-06, 9.95140796e-01]])"
      ]
     },
     "execution_count": 66,
     "metadata": {},
     "output_type": "execute_result"
    }
   ],
   "source": [
    "fcm.u"
   ]
  },
  {
   "cell_type": "code",
   "execution_count": null,
   "metadata": {},
   "outputs": [],
   "source": []
  },
  {
   "cell_type": "code",
   "execution_count": 36,
   "metadata": {},
   "outputs": [],
   "source": [
    "import skfuzzy as fuzz"
   ]
  },
  {
   "cell_type": "code",
   "execution_count": 69,
   "metadata": {},
   "outputs": [],
   "source": [
    "cluster_centers,fuzzy_labels,_,_,_,_,_=fuzz.cluster.cmeans(data=df, c=3, m=2, error=0.05, maxiter=1000)\n"
   ]
  },
  {
   "cell_type": "code",
   "execution_count": 60,
   "metadata": {},
   "outputs": [],
   "source": [
    "labels_list = np.argmax(fuzzy_labels,axis=0).T"
   ]
  },
  {
   "cell_type": "code",
   "execution_count": 61,
   "metadata": {},
   "outputs": [
    {
     "data": {
      "text/plain": [
       "array([1, 2, 2, 0, 0, 2, 2, 0, 2, 2, 2, 2, 0, 2, 0, 0, 2, 0, 2, 0, 0, 0,\n",
       "       0, 0, 0, 0, 0, 0, 0, 0, 0, 0, 0, 0, 0, 2, 0, 2, 2, 0, 0, 0, 0, 2,\n",
       "       0, 2, 0, 0, 0, 2, 0, 0, 0, 0], dtype=int64)"
      ]
     },
     "execution_count": 61,
     "metadata": {},
     "output_type": "execute_result"
    }
   ],
   "source": [
    "labels_list"
   ]
  },
  {
   "cell_type": "code",
   "execution_count": 70,
   "metadata": {},
   "outputs": [
    {
     "data": {
      "text/plain": [
       "(3, 54)"
      ]
     },
     "execution_count": 70,
     "metadata": {},
     "output_type": "execute_result"
    }
   ],
   "source": [
    "fuzzy_labels.shape"
   ]
  },
  {
   "cell_type": "code",
   "execution_count": null,
   "metadata": {},
   "outputs": [],
   "source": [
    "fuzzy_l"
   ]
  }
 ],
 "metadata": {
  "kernelspec": {
   "display_name": "Python 3",
   "language": "python",
   "name": "python3"
  },
  "language_info": {
   "codemirror_mode": {
    "name": "ipython",
    "version": 3
   },
   "file_extension": ".py",
   "mimetype": "text/x-python",
   "name": "python",
   "nbconvert_exporter": "python",
   "pygments_lexer": "ipython3",
   "version": "3.8.2"
  }
 },
 "nbformat": 4,
 "nbformat_minor": 4
}
