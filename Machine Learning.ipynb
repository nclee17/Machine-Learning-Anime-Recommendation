{
 "cells": [
  {
   "cell_type": "markdown",
   "metadata": {},
   "source": [
    "# Machine Learning: Anime Recommendation"
   ]
  },
  {
   "cell_type": "markdown",
   "metadata": {},
   "source": [
    "#### Data Collection"
   ]
  },
  {
   "cell_type": "code",
   "execution_count": 1,
   "metadata": {},
   "outputs": [],
   "source": [
    "import kaggle"
   ]
  },
  {
   "cell_type": "code",
   "execution_count": 2,
   "metadata": {},
   "outputs": [
    {
     "name": "stdout",
     "output_type": "stream",
     "text": [
      "Downloading anime-recommendations-database.zip to C:\\Users\\nclee\\Documents\\Education\\Ironhack\\Project-Anime\n",
      "\n"
     ]
    },
    {
     "name": "stderr",
     "output_type": "stream",
     "text": [
      "\n",
      "  0%|          | 0.00/25.0M [00:00<?, ?B/s]\n",
      "  4%|3         | 1.00M/25.0M [00:00<00:02, 8.98MB/s]\n",
      "  8%|7         | 2.00M/25.0M [00:00<00:02, 9.33MB/s]\n",
      " 12%|#1        | 3.00M/25.0M [00:00<00:02, 9.64MB/s]\n",
      " 20%|#9        | 5.00M/25.0M [00:00<00:02, 10.3MB/s]\n",
      " 24%|##3       | 6.00M/25.0M [00:00<00:02, 9.88MB/s]\n",
      " 28%|##7       | 7.00M/25.0M [00:00<00:02, 9.38MB/s]\n",
      " 36%|###5      | 9.00M/25.0M [00:01<00:02, 8.02MB/s]\n",
      " 44%|####3     | 11.0M/25.0M [00:01<00:01, 8.56MB/s]\n",
      " 52%|#####1    | 13.0M/25.0M [00:01<00:01, 9.19MB/s]\n",
      " 56%|#####5    | 14.0M/25.0M [00:01<00:01, 9.45MB/s]\n",
      " 60%|#####9    | 15.0M/25.0M [00:01<00:01, 9.61MB/s]\n",
      " 68%|######7   | 17.0M/25.0M [00:01<00:00, 10.2MB/s]\n",
      " 72%|#######1  | 18.0M/25.0M [00:01<00:00, 10.2MB/s]\n",
      " 76%|#######5  | 19.0M/25.0M [00:02<00:00, 9.95MB/s]\n",
      " 80%|#######9  | 20.0M/25.0M [00:02<00:00, 9.64MB/s]\n",
      " 88%|########7 | 22.0M/25.0M [00:02<00:00, 10.5MB/s]\n",
      " 96%|#########5| 24.0M/25.0M [00:02<00:00, 10.9MB/s]\n",
      "100%|##########| 25.0M/25.0M [00:02<00:00, 10.0MB/s]\n"
     ]
    }
   ],
   "source": [
    "!kaggle datasets download -d CooperUnion/anime-recommendations-database --unzip"
   ]
  },
  {
   "cell_type": "code",
   "execution_count": 85,
   "metadata": {},
   "outputs": [
    {
     "name": "stdout",
     "output_type": "stream",
     "text": [
      "Downloading 28524%2F45582%2Fcompressed%2FAnimeList.csv.zip to C:\\Users\\nclee\\Documents\\Education\\Ironhack\\Project-Anime\n",
      "\n"
     ]
    },
    {
     "name": "stderr",
     "output_type": "stream",
     "text": [
      "\n",
      "  0%|          | 0.00/3.02M [00:00<?, ?B/s]\n",
      " 33%|###3      | 1.00M/3.02M [00:00<00:00, 3.55MB/s]\n",
      " 66%|######6   | 2.00M/3.02M [00:00<00:00, 3.37MB/s]\n",
      " 99%|#########9| 3.00M/3.02M [00:00<00:00, 3.39MB/s]\n",
      "100%|##########| 3.02M/3.02M [00:00<00:00, 3.33MB/s]\n"
     ]
    }
   ],
   "source": [
    "!kaggle datasets download -d azathoth42/myanimelist -f AnimeList.csv --unzip"
   ]
  },
  {
   "cell_type": "code",
   "execution_count": 86,
   "metadata": {},
   "outputs": [],
   "source": [
    "import zipfile"
   ]
  },
  {
   "cell_type": "code",
   "execution_count": 88,
   "metadata": {},
   "outputs": [],
   "source": [
    "with zipfile.ZipFile(\"28524%2F45582%2Fcompressed%2FAnimeList.csv.zip\", 'r') as zip_ref:\n",
    "    zip_ref.extractall(\"\")"
   ]
  },
  {
   "cell_type": "markdown",
   "metadata": {},
   "source": [
    "##### Libraries"
   ]
  },
  {
   "cell_type": "code",
   "execution_count": 29,
   "metadata": {},
   "outputs": [],
   "source": [
    "import numpy as np\n",
    "import pandas as pd\n",
    "import matplotlib.pyplot as plt\n",
    "import seaborn as sns\n",
    "\n",
    "%matplotlib inline\n",
    "sns.set()\n",
    "plt.style.use('seaborn-whitegrid')\n",
    "sns.set_style(\"white\")\n",
    "\n",
    "import scipy.stats as st\n",
    "from sklearn.preprocessing import StandardScaler"
   ]
  },
  {
   "cell_type": "markdown",
   "metadata": {},
   "source": [
    "## Data PreparationStandardScaler"
   ]
  },
  {
   "cell_type": "code",
   "execution_count": 30,
   "metadata": {},
   "outputs": [],
   "source": [
    "anime=pd.read_csv(\"anime.csv\", index_col=\"anime_id\")"
   ]
  },
  {
   "cell_type": "code",
   "execution_count": 31,
   "metadata": {},
   "outputs": [
    {
     "data": {
      "text/plain": [
       "name          0\n",
       "genre        62\n",
       "type         25\n",
       "episodes      0\n",
       "rating      230\n",
       "members       0\n",
       "dtype: int64"
      ]
     },
     "execution_count": 31,
     "metadata": {},
     "output_type": "execute_result"
    }
   ],
   "source": [
    "anime.isna().sum()"
   ]
  },
  {
   "cell_type": "code",
   "execution_count": 32,
   "metadata": {},
   "outputs": [],
   "source": [
    "# dropping those with NA in \"genre\", \"type\", \"rating\"\n",
    "anime[anime.loc[:, [\"genre\", \"type\", \"rating\"]].isna().all(axis=1)]\n",
    "anime.drop(anime[anime.loc[:, [\"genre\", \"type\", \"rating\"]].isna().all(axis=1)].index, axis=0, inplace=True)"
   ]
  },
  {
   "cell_type": "code",
   "execution_count": 33,
   "metadata": {},
   "outputs": [],
   "source": [
    "# updated list to fill in the gaps in data\n",
    "animelist=pd.read_csv(\"AnimeList.csv\")"
   ]
  },
  {
   "cell_type": "code",
   "execution_count": 34,
   "metadata": {},
   "outputs": [],
   "source": [
    "# trying to fill in the missing type information from new animelist, there are still \"Unknown\"\n",
    "anime.type.fillna(animelist.set_index(\"anime_id\").type, inplace=True)"
   ]
  },
  {
   "cell_type": "code",
   "execution_count": 35,
   "metadata": {},
   "outputs": [],
   "source": [
    "# fill in the rest by research\n",
    "anime_type={34437: \"Movie\", 32455: \"TV\", 28613: \"TV\", 30448: \"TV\", 24023: \"TV\", 34348: \"TV\"}\n",
    "anime.loc[anime.type==\"Unknown\", \"type\"]=anime[anime.type==\"Unknown\"].index.map(anime_type)"
   ]
  },
  {
   "cell_type": "code",
   "execution_count": 36,
   "metadata": {},
   "outputs": [],
   "source": [
    "# creating a dummy column for airing using episode as an indicator\n",
    "anime[\"airing\"]=np.where(anime.episodes==\"Unknown\", 1, 0)"
   ]
  },
  {
   "cell_type": "code",
   "execution_count": 37,
   "metadata": {},
   "outputs": [],
   "source": [
    "anime[\"episodes\"]=np.where(anime.episodes==\"Unknown\", 0, anime.episodes)"
   ]
  },
  {
   "cell_type": "code",
   "execution_count": 38,
   "metadata": {},
   "outputs": [],
   "source": [
    "# creating a dummy column for whether it was NA for rating\n",
    "anime[\"rate_na\"]=np.where(anime.rating.isna(), 1, 0)"
   ]
  },
  {
   "cell_type": "code",
   "execution_count": 39,
   "metadata": {},
   "outputs": [],
   "source": [
    "# fill all the NA in rating as 0\n",
    "anime.rating.fillna(0, inplace=True)"
   ]
  },
  {
   "cell_type": "code",
   "execution_count": 40,
   "metadata": {},
   "outputs": [
    {
     "data": {
      "text/html": [
       "<div>\n",
       "<style scoped>\n",
       "    .dataframe tbody tr th:only-of-type {\n",
       "        vertical-align: middle;\n",
       "    }\n",
       "\n",
       "    .dataframe tbody tr th {\n",
       "        vertical-align: top;\n",
       "    }\n",
       "\n",
       "    .dataframe thead th {\n",
       "        text-align: right;\n",
       "    }\n",
       "</style>\n",
       "<table border=\"1\" class=\"dataframe\">\n",
       "  <thead>\n",
       "    <tr style=\"text-align: right;\">\n",
       "      <th></th>\n",
       "      <th>name</th>\n",
       "      <th>genre</th>\n",
       "      <th>type</th>\n",
       "      <th>episodes</th>\n",
       "      <th>rating</th>\n",
       "      <th>members</th>\n",
       "      <th>airing</th>\n",
       "      <th>rate_na</th>\n",
       "    </tr>\n",
       "  </thead>\n",
       "  <tbody>\n",
       "    <tr>\n",
       "      <th>count</th>\n",
       "      <td>12291</td>\n",
       "      <td>12232</td>\n",
       "      <td>12291</td>\n",
       "      <td>12291</td>\n",
       "      <td>12291.000000</td>\n",
       "      <td>1.229100e+04</td>\n",
       "      <td>12291.000000</td>\n",
       "      <td>12291.000000</td>\n",
       "    </tr>\n",
       "    <tr>\n",
       "      <th>unique</th>\n",
       "      <td>12289</td>\n",
       "      <td>3264</td>\n",
       "      <td>6</td>\n",
       "      <td>187</td>\n",
       "      <td>NaN</td>\n",
       "      <td>NaN</td>\n",
       "      <td>NaN</td>\n",
       "      <td>NaN</td>\n",
       "    </tr>\n",
       "    <tr>\n",
       "      <th>top</th>\n",
       "      <td>Saru Kani Gassen</td>\n",
       "      <td>Hentai</td>\n",
       "      <td>TV</td>\n",
       "      <td>1</td>\n",
       "      <td>NaN</td>\n",
       "      <td>NaN</td>\n",
       "      <td>NaN</td>\n",
       "      <td>NaN</td>\n",
       "    </tr>\n",
       "    <tr>\n",
       "      <th>freq</th>\n",
       "      <td>2</td>\n",
       "      <td>823</td>\n",
       "      <td>3805</td>\n",
       "      <td>5677</td>\n",
       "      <td>NaN</td>\n",
       "      <td>NaN</td>\n",
       "      <td>NaN</td>\n",
       "      <td>NaN</td>\n",
       "    </tr>\n",
       "    <tr>\n",
       "      <th>mean</th>\n",
       "      <td>NaN</td>\n",
       "      <td>NaN</td>\n",
       "      <td>NaN</td>\n",
       "      <td>NaN</td>\n",
       "      <td>6.354337</td>\n",
       "      <td>1.807560e+04</td>\n",
       "      <td>0.027418</td>\n",
       "      <td>0.018469</td>\n",
       "    </tr>\n",
       "    <tr>\n",
       "      <th>std</th>\n",
       "      <td>NaN</td>\n",
       "      <td>NaN</td>\n",
       "      <td>NaN</td>\n",
       "      <td>NaN</td>\n",
       "      <td>1.339610</td>\n",
       "      <td>5.482669e+04</td>\n",
       "      <td>0.163306</td>\n",
       "      <td>0.134645</td>\n",
       "    </tr>\n",
       "    <tr>\n",
       "      <th>min</th>\n",
       "      <td>NaN</td>\n",
       "      <td>NaN</td>\n",
       "      <td>NaN</td>\n",
       "      <td>NaN</td>\n",
       "      <td>0.000000</td>\n",
       "      <td>5.000000e+00</td>\n",
       "      <td>0.000000</td>\n",
       "      <td>0.000000</td>\n",
       "    </tr>\n",
       "    <tr>\n",
       "      <th>25%</th>\n",
       "      <td>NaN</td>\n",
       "      <td>NaN</td>\n",
       "      <td>NaN</td>\n",
       "      <td>NaN</td>\n",
       "      <td>5.820000</td>\n",
       "      <td>2.255000e+02</td>\n",
       "      <td>0.000000</td>\n",
       "      <td>0.000000</td>\n",
       "    </tr>\n",
       "    <tr>\n",
       "      <th>50%</th>\n",
       "      <td>NaN</td>\n",
       "      <td>NaN</td>\n",
       "      <td>NaN</td>\n",
       "      <td>NaN</td>\n",
       "      <td>6.550000</td>\n",
       "      <td>1.551000e+03</td>\n",
       "      <td>0.000000</td>\n",
       "      <td>0.000000</td>\n",
       "    </tr>\n",
       "    <tr>\n",
       "      <th>75%</th>\n",
       "      <td>NaN</td>\n",
       "      <td>NaN</td>\n",
       "      <td>NaN</td>\n",
       "      <td>NaN</td>\n",
       "      <td>7.170000</td>\n",
       "      <td>9.443000e+03</td>\n",
       "      <td>0.000000</td>\n",
       "      <td>0.000000</td>\n",
       "    </tr>\n",
       "    <tr>\n",
       "      <th>max</th>\n",
       "      <td>NaN</td>\n",
       "      <td>NaN</td>\n",
       "      <td>NaN</td>\n",
       "      <td>NaN</td>\n",
       "      <td>10.000000</td>\n",
       "      <td>1.013917e+06</td>\n",
       "      <td>1.000000</td>\n",
       "      <td>1.000000</td>\n",
       "    </tr>\n",
       "  </tbody>\n",
       "</table>\n",
       "</div>"
      ],
      "text/plain": [
       "                    name   genre   type episodes        rating       members  \\\n",
       "count              12291   12232  12291    12291  12291.000000  1.229100e+04   \n",
       "unique             12289    3264      6      187           NaN           NaN   \n",
       "top     Saru Kani Gassen  Hentai     TV        1           NaN           NaN   \n",
       "freq                   2     823   3805     5677           NaN           NaN   \n",
       "mean                 NaN     NaN    NaN      NaN      6.354337  1.807560e+04   \n",
       "std                  NaN     NaN    NaN      NaN      1.339610  5.482669e+04   \n",
       "min                  NaN     NaN    NaN      NaN      0.000000  5.000000e+00   \n",
       "25%                  NaN     NaN    NaN      NaN      5.820000  2.255000e+02   \n",
       "50%                  NaN     NaN    NaN      NaN      6.550000  1.551000e+03   \n",
       "75%                  NaN     NaN    NaN      NaN      7.170000  9.443000e+03   \n",
       "max                  NaN     NaN    NaN      NaN     10.000000  1.013917e+06   \n",
       "\n",
       "              airing       rate_na  \n",
       "count   12291.000000  12291.000000  \n",
       "unique           NaN           NaN  \n",
       "top              NaN           NaN  \n",
       "freq             NaN           NaN  \n",
       "mean        0.027418      0.018469  \n",
       "std         0.163306      0.134645  \n",
       "min         0.000000      0.000000  \n",
       "25%         0.000000      0.000000  \n",
       "50%         0.000000      0.000000  \n",
       "75%         0.000000      0.000000  \n",
       "max         1.000000      1.000000  "
      ]
     },
     "execution_count": 40,
     "metadata": {},
     "output_type": "execute_result"
    }
   ],
   "source": [
    "anime.describe(include=\"all\")"
   ]
  },
  {
   "cell_type": "code",
   "execution_count": 41,
   "metadata": {},
   "outputs": [
    {
     "data": {
      "text/plain": [
       "TV         0.309576\n",
       "OVA        0.269384\n",
       "Movie      0.191360\n",
       "Special    0.136360\n",
       "ONA        0.053616\n",
       "Music      0.039704\n",
       "Name: type, dtype: float64"
      ]
     },
     "execution_count": 41,
     "metadata": {},
     "output_type": "execute_result"
    }
   ],
   "source": [
    "# should we group them into 5 instead of 6?\n",
    "anime.type.value_counts(normalize=True)"
   ]
  },
  {
   "cell_type": "code",
   "execution_count": 42,
   "metadata": {},
   "outputs": [],
   "source": [
    "anime[\"type\"]=np.where(anime.type.isin([\"ONA\", \"Music\"]), \"Other\", anime.type)"
   ]
  },
  {
   "cell_type": "code",
   "execution_count": 43,
   "metadata": {},
   "outputs": [],
   "source": [
    "# standardize the data for members\n",
    "scaler=StandardScaler()\n",
    "anime[[\"episode\", \"rating\", \"members\"]]=scaler.fit_transform(anime[[\"episodes\", \"rating\", \"members\"]])\n"
   ]
  },
  {
   "cell_type": "code",
   "execution_count": 44,
   "metadata": {},
   "outputs": [],
   "source": [
    "# dummies\n",
    "dummy_col=[\"type\"]\n",
    "df=pd.get_dummies(data=anime, columns=dummy_col,drop_first=True)"
   ]
  },
  {
   "cell_type": "code",
   "execution_count": 18,
   "metadata": {
    "scrolled": true
   },
   "outputs": [
    {
     "data": {
      "text/html": [
       "<div>\n",
       "<style scoped>\n",
       "    .dataframe tbody tr th:only-of-type {\n",
       "        vertical-align: middle;\n",
       "    }\n",
       "\n",
       "    .dataframe tbody tr th {\n",
       "        vertical-align: top;\n",
       "    }\n",
       "\n",
       "    .dataframe thead th {\n",
       "        text-align: right;\n",
       "    }\n",
       "</style>\n",
       "<table border=\"1\" class=\"dataframe\">\n",
       "  <thead>\n",
       "    <tr style=\"text-align: right;\">\n",
       "      <th></th>\n",
       "      <th>name</th>\n",
       "      <th>genre</th>\n",
       "      <th>type</th>\n",
       "      <th>episodes</th>\n",
       "      <th>rating</th>\n",
       "      <th>members</th>\n",
       "      <th>airing</th>\n",
       "      <th>rate_na</th>\n",
       "    </tr>\n",
       "    <tr>\n",
       "      <th>anime_id</th>\n",
       "      <th></th>\n",
       "      <th></th>\n",
       "      <th></th>\n",
       "      <th></th>\n",
       "      <th></th>\n",
       "      <th></th>\n",
       "      <th></th>\n",
       "      <th></th>\n",
       "    </tr>\n",
       "  </thead>\n",
       "  <tbody>\n",
       "    <tr>\n",
       "      <td>32281</td>\n",
       "      <td>Kimi no Na wa.</td>\n",
       "      <td>Drama, Romance, School, Supernatural</td>\n",
       "      <td>Movie</td>\n",
       "      <td>1</td>\n",
       "      <td>0.937</td>\n",
       "      <td>0.197872</td>\n",
       "      <td>0</td>\n",
       "      <td>0.000550</td>\n",
       "    </tr>\n",
       "    <tr>\n",
       "      <td>5114</td>\n",
       "      <td>Fullmetal Alchemist: Brotherhood</td>\n",
       "      <td>Action, Adventure, Drama, Fantasy, Magic, Mili...</td>\n",
       "      <td>TV</td>\n",
       "      <td>64</td>\n",
       "      <td>0.926</td>\n",
       "      <td>0.782770</td>\n",
       "      <td>0</td>\n",
       "      <td>0.035204</td>\n",
       "    </tr>\n",
       "    <tr>\n",
       "      <td>28977</td>\n",
       "      <td>Gintama°</td>\n",
       "      <td>Action, Comedy, Historical, Parody, Samurai, S...</td>\n",
       "      <td>TV</td>\n",
       "      <td>51</td>\n",
       "      <td>0.925</td>\n",
       "      <td>0.112689</td>\n",
       "      <td>0</td>\n",
       "      <td>0.028053</td>\n",
       "    </tr>\n",
       "    <tr>\n",
       "      <td>9253</td>\n",
       "      <td>Steins;Gate</td>\n",
       "      <td>Sci-Fi, Thriller</td>\n",
       "      <td>TV</td>\n",
       "      <td>24</td>\n",
       "      <td>0.917</td>\n",
       "      <td>0.664325</td>\n",
       "      <td>0</td>\n",
       "      <td>0.013201</td>\n",
       "    </tr>\n",
       "    <tr>\n",
       "      <td>9969</td>\n",
       "      <td>Gintama&amp;#039;</td>\n",
       "      <td>Action, Comedy, Historical, Parody, Samurai, S...</td>\n",
       "      <td>TV</td>\n",
       "      <td>51</td>\n",
       "      <td>0.916</td>\n",
       "      <td>0.149186</td>\n",
       "      <td>0</td>\n",
       "      <td>0.028053</td>\n",
       "    </tr>\n",
       "    <tr>\n",
       "      <td>...</td>\n",
       "      <td>...</td>\n",
       "      <td>...</td>\n",
       "      <td>...</td>\n",
       "      <td>...</td>\n",
       "      <td>...</td>\n",
       "      <td>...</td>\n",
       "      <td>...</td>\n",
       "      <td>...</td>\n",
       "    </tr>\n",
       "    <tr>\n",
       "      <td>9316</td>\n",
       "      <td>Toushindai My Lover: Minami tai Mecha-Minami</td>\n",
       "      <td>Hentai</td>\n",
       "      <td>OVA</td>\n",
       "      <td>1</td>\n",
       "      <td>0.415</td>\n",
       "      <td>0.000203</td>\n",
       "      <td>0</td>\n",
       "      <td>0.000550</td>\n",
       "    </tr>\n",
       "    <tr>\n",
       "      <td>5543</td>\n",
       "      <td>Under World</td>\n",
       "      <td>Hentai</td>\n",
       "      <td>OVA</td>\n",
       "      <td>1</td>\n",
       "      <td>0.428</td>\n",
       "      <td>0.000176</td>\n",
       "      <td>0</td>\n",
       "      <td>0.000550</td>\n",
       "    </tr>\n",
       "    <tr>\n",
       "      <td>5621</td>\n",
       "      <td>Violence Gekiga David no Hoshi</td>\n",
       "      <td>Hentai</td>\n",
       "      <td>OVA</td>\n",
       "      <td>4</td>\n",
       "      <td>0.488</td>\n",
       "      <td>0.000211</td>\n",
       "      <td>0</td>\n",
       "      <td>0.002200</td>\n",
       "    </tr>\n",
       "    <tr>\n",
       "      <td>6133</td>\n",
       "      <td>Violence Gekiga Shin David no Hoshi: Inma Dens...</td>\n",
       "      <td>Hentai</td>\n",
       "      <td>OVA</td>\n",
       "      <td>1</td>\n",
       "      <td>0.498</td>\n",
       "      <td>0.000168</td>\n",
       "      <td>0</td>\n",
       "      <td>0.000550</td>\n",
       "    </tr>\n",
       "    <tr>\n",
       "      <td>26081</td>\n",
       "      <td>Yasuji no Pornorama: Yacchimae!!</td>\n",
       "      <td>Hentai</td>\n",
       "      <td>Movie</td>\n",
       "      <td>1</td>\n",
       "      <td>0.546</td>\n",
       "      <td>0.000135</td>\n",
       "      <td>0</td>\n",
       "      <td>0.000550</td>\n",
       "    </tr>\n",
       "  </tbody>\n",
       "</table>\n",
       "<p>12291 rows × 8 columns</p>\n",
       "</div>"
      ],
      "text/plain": [
       "                                                       name  \\\n",
       "anime_id                                                      \n",
       "32281                                        Kimi no Na wa.   \n",
       "5114                       Fullmetal Alchemist: Brotherhood   \n",
       "28977                                              Gintama°   \n",
       "9253                                            Steins;Gate   \n",
       "9969                                          Gintama&#039;   \n",
       "...                                                     ...   \n",
       "9316           Toushindai My Lover: Minami tai Mecha-Minami   \n",
       "5543                                            Under World   \n",
       "5621                         Violence Gekiga David no Hoshi   \n",
       "6133      Violence Gekiga Shin David no Hoshi: Inma Dens...   \n",
       "26081                      Yasuji no Pornorama: Yacchimae!!   \n",
       "\n",
       "                                                      genre   type episodes  \\\n",
       "anime_id                                                                      \n",
       "32281                  Drama, Romance, School, Supernatural  Movie        1   \n",
       "5114      Action, Adventure, Drama, Fantasy, Magic, Mili...     TV       64   \n",
       "28977     Action, Comedy, Historical, Parody, Samurai, S...     TV       51   \n",
       "9253                                       Sci-Fi, Thriller     TV       24   \n",
       "9969      Action, Comedy, Historical, Parody, Samurai, S...     TV       51   \n",
       "...                                                     ...    ...      ...   \n",
       "9316                                                 Hentai    OVA        1   \n",
       "5543                                                 Hentai    OVA        1   \n",
       "5621                                                 Hentai    OVA        4   \n",
       "6133                                                 Hentai    OVA        1   \n",
       "26081                                                Hentai  Movie        1   \n",
       "\n",
       "          rating   members  airing   rate_na  \n",
       "anime_id                                      \n",
       "32281      0.937  0.197872       0  0.000550  \n",
       "5114       0.926  0.782770       0  0.035204  \n",
       "28977      0.925  0.112689       0  0.028053  \n",
       "9253       0.917  0.664325       0  0.013201  \n",
       "9969       0.916  0.149186       0  0.028053  \n",
       "...          ...       ...     ...       ...  \n",
       "9316       0.415  0.000203       0  0.000550  \n",
       "5543       0.428  0.000176       0  0.000550  \n",
       "5621       0.488  0.000211       0  0.002200  \n",
       "6133       0.498  0.000168       0  0.000550  \n",
       "26081      0.546  0.000135       0  0.000550  \n",
       "\n",
       "[12291 rows x 8 columns]"
      ]
     },
     "execution_count": 18,
     "metadata": {},
     "output_type": "execute_result"
    }
   ],
   "source": [
    "anime"
   ]
  },
  {
   "cell_type": "code",
   "execution_count": null,
   "metadata": {},
   "outputs": [],
   "source": []
  },
  {
   "cell_type": "code",
   "execution_count": 45,
   "metadata": {
    "scrolled": true
   },
   "outputs": [
    {
     "data": {
      "text/plain": [
       "59"
      ]
     },
     "execution_count": 45,
     "metadata": {},
     "output_type": "execute_result"
    }
   ],
   "source": [
    "# Missing values in genre\n",
    "anime = anime.reset_index()\n",
    "missingvalues_genre = anime[anime.genre.isnull()]\n",
    "missingvalues_genre_titles = missingvalues_genre['anime_id'].tolist()\n",
    "len(missingvalues_genre_titles)"
   ]
  },
  {
   "cell_type": "code",
   "execution_count": 46,
   "metadata": {},
   "outputs": [
    {
     "data": {
      "text/plain": [
       "40"
      ]
     },
     "execution_count": 46,
     "metadata": {},
     "output_type": "execute_result"
    }
   ],
   "source": [
    "# Cross-referencing our missing values with the newest version of the dataset\n",
    "animelist[animelist['anime_id'].isin(missingvalues_genre_titles)]\n",
    "\n",
    "# Making `anime_id` the index so we can easly merge both dataframes\n",
    "anime = anime.set_index('anime_id')\n",
    "animelist = animelist.set_index('anime_id')\n",
    "\n",
    "# Filling the missing values that are available in the newest version of the dataset\n",
    "anime['genre'] = anime['genre'].fillna(animelist['genre'])\n",
    "anime['genre'].isnull().sum()"
   ]
  },
  {
   "cell_type": "code",
   "execution_count": 47,
   "metadata": {},
   "outputs": [],
   "source": [
    "# Research and replace the remaining missing values \n",
    "anime.at[29765, 'genre'] = 'Short' #Metropolis (2009)\n",
    "anime.at[32695, 'genre'] = 'Fantasy' #Match Shoujo\n",
    "anime.at[33187, 'genre'] = 'Short' #Katsudou Shashin\n",
    "anime.at[30862, 'genre'] = 'Short' #Yubi wo Nusunda Onna\n",
    "anime.at[28987, 'genre'] = 'Short' #Kamakura\n",
    "anime.at[29629, 'genre'] = 'Short' #Coffee Break\n",
    "anime.at[28653, 'genre'] = 'Short' #Maze\n",
    "anime.at[31834, 'genre'] = 'Short' #Mormorando\n",
    "anime.at[31760, 'genre'] = 'Short' #Tsuru Shitae Waka Kan\n",
    "anime.at[31831, 'genre'] = 'Short' #Fantasy\n",
    "anime.at[31833, 'genre'] = 'Short' #Metamorphose\n",
    "anime.at[30399, 'genre'] = 'Short' #Arigatou Gomennasai\n",
    "anime.at[28655, 'genre'] = 'Short' #PiKA PiKA\n",
    "anime.at[31832, 'genre'] = 'Short' #Zawazawa\n",
    "anime.at[28647, 'genre'] = 'Short' #Kappo\n",
    "anime.at[29764, 'genre'] = 'Short' #Blend\n",
    "anime.at[29921, 'genre'] = 'Short' #Bunbuku Chagama (1958)\n",
    "anime.at[29655, 'genre'] = 'Short' #Chanda Gou\n",
    "anime.at[29923, 'genre'] = 'Short' #Fukusuke\n",
    "anime.at[30861, 'genre'] = 'Short' #Happy Bogeys\n",
    "anime.at[32636, 'genre'] = 'Short' #Hokori Inu no Hanashi\n",
    "anime.at[31511, 'genre'] = 'Short' #Holiday\n",
    "anime.at[31509, 'genre'] = 'Short' #Ichi-gan Kuni\n",
    "anime.at[29920, 'genre'] = 'Short' #Kobutori (1957)\n",
    "anime.at[30055, 'genre'] = 'Adventure' #Mabeob Chunjamun: Daemawangui Buhwaleul Magala\n",
    "anime.at[29767, 'genre'] = 'Short' #Minamo\n",
    "anime.at[29922, 'genre'] = 'Short' #Ou-sama Ninatta Kitsune\n",
    "anime.at[33318, 'genre'] = 'Short' #Scripta Volant\n",
    "anime.at[31508, 'genre'] = 'Short' #Shinya Doubutsuen\n",
    "anime.at[33320, 'genre'] = 'Short' #Suijun Genten\n",
    "anime.at[30408, 'genre'] = 'Short' #Tokyo SOS\n",
    "anime.at[33319, 'genre'] = 'Short' #Wareware no Heya\n",
    "anime.at[32644, 'genre'] = 'Short' #Yaseruyagi\n",
    "anime.at[33388, 'genre'] = 'Adventure' #Charanpo Shima no Monogatari\n",
    "anime.at[33389, 'genre'] = 'Fantasy' #Genba no Joukitsune\n",
    "anime.at[34310, 'genre'] = 'Kids' #Tamagotchi Movie: Tanpen Himitsu no Otodoke Daisakusen!\n",
    "anime.at[33390, 'genre'] = 'Action' #Zunda Horizon"
   ]
  },
  {
   "cell_type": "code",
   "execution_count": 48,
   "metadata": {},
   "outputs": [
    {
     "data": {
      "text/html": [
       "<div>\n",
       "<style scoped>\n",
       "    .dataframe tbody tr th:only-of-type {\n",
       "        vertical-align: middle;\n",
       "    }\n",
       "\n",
       "    .dataframe tbody tr th {\n",
       "        vertical-align: top;\n",
       "    }\n",
       "\n",
       "    .dataframe thead th {\n",
       "        text-align: right;\n",
       "    }\n",
       "</style>\n",
       "<table border=\"1\" class=\"dataframe\">\n",
       "  <thead>\n",
       "    <tr style=\"text-align: right;\">\n",
       "      <th></th>\n",
       "      <th>anime_id</th>\n",
       "      <th>name</th>\n",
       "      <th>genre</th>\n",
       "      <th>type</th>\n",
       "      <th>episodes</th>\n",
       "      <th>rating</th>\n",
       "      <th>members</th>\n",
       "      <th>airing</th>\n",
       "      <th>rate_na</th>\n",
       "      <th>episode</th>\n",
       "    </tr>\n",
       "  </thead>\n",
       "  <tbody>\n",
       "    <tr>\n",
       "      <th>8955</th>\n",
       "      <td>28487</td>\n",
       "      <td>Ikite Iru</td>\n",
       "      <td>NaN</td>\n",
       "      <td>OVA</td>\n",
       "      <td>1</td>\n",
       "      <td>-0.451147</td>\n",
       "      <td>-0.328934</td>\n",
       "      <td>0</td>\n",
       "      <td>0</td>\n",
       "      <td>-0.238713</td>\n",
       "    </tr>\n",
       "    <tr>\n",
       "      <th>9137</th>\n",
       "      <td>30435</td>\n",
       "      <td>Kankou Taisen Saitama: Sakuya no Tatakai</td>\n",
       "      <td>NaN</td>\n",
       "      <td>Other</td>\n",
       "      <td>4</td>\n",
       "      <td>-1.578386</td>\n",
       "      <td>-0.327821</td>\n",
       "      <td>0</td>\n",
       "      <td>0</td>\n",
       "      <td>-0.173863</td>\n",
       "    </tr>\n",
       "    <tr>\n",
       "      <th>9978</th>\n",
       "      <td>31078</td>\n",
       "      <td>PikkaPika Summer</td>\n",
       "      <td>NaN</td>\n",
       "      <td>TV</td>\n",
       "      <td>31</td>\n",
       "      <td>-0.510868</td>\n",
       "      <td>-0.327949</td>\n",
       "      <td>0</td>\n",
       "      <td>0</td>\n",
       "      <td>0.409786</td>\n",
       "    </tr>\n",
       "  </tbody>\n",
       "</table>\n",
       "</div>"
      ],
      "text/plain": [
       "      anime_id                                      name genre   type  \\\n",
       "8955     28487                                 Ikite Iru   NaN    OVA   \n",
       "9137     30435  Kankou Taisen Saitama: Sakuya no Tatakai   NaN  Other   \n",
       "9978     31078                          PikkaPika Summer   NaN     TV   \n",
       "\n",
       "     episodes    rating   members  airing  rate_na   episode  \n",
       "8955        1 -0.451147 -0.328934       0        0 -0.238713  \n",
       "9137        4 -1.578386 -0.327821       0        0 -0.173863  \n",
       "9978       31 -0.510868 -0.327949       0        0  0.409786  "
      ]
     },
     "execution_count": 48,
     "metadata": {},
     "output_type": "execute_result"
    }
   ],
   "source": [
    "# Reset index\n",
    "anime = anime.reset_index()\n",
    "# Check again for missing values to be sure\n",
    "anime[anime['genre'].isnull()]"
   ]
  },
  {
   "cell_type": "code",
   "execution_count": 49,
   "metadata": {},
   "outputs": [
    {
     "data": {
      "text/plain": [
       "(12288, 11)"
      ]
     },
     "execution_count": 49,
     "metadata": {},
     "output_type": "execute_result"
    }
   ],
   "source": [
    "# Drop the three titles where we couldn't find the genre \n",
    "anime.drop([8955, 9137, 9978], inplace=True)\n",
    "anime.reset_index(inplace=True)\n",
    "anime.shape"
   ]
  },
  {
   "cell_type": "code",
   "execution_count": 50,
   "metadata": {},
   "outputs": [
    {
     "data": {
      "text/plain": [
       "3272"
      ]
     },
     "execution_count": 50,
     "metadata": {},
     "output_type": "execute_result"
    }
   ],
   "source": [
    "# Genre has way too many unique values!\n",
    "anime.genre.nunique()"
   ]
  },
  {
   "cell_type": "code",
   "execution_count": 51,
   "metadata": {},
   "outputs": [
    {
     "data": {
      "text/plain": [
       "Hentai                                  823\n",
       "Comedy                                  524\n",
       "Music                                   303\n",
       "Kids                                    200\n",
       "Comedy, Slice of Life                   179\n",
       "                                       ... \n",
       "Demons, Historical                        1\n",
       "Comedy, Ecchi, Magic, Parody              1\n",
       "Music, School, Shoujo                     1\n",
       "Hentai, Romance, School, Sports           1\n",
       "Fantasy, Kids, School, Slice of Life      1\n",
       "Name: genre, Length: 3272, dtype: int64"
      ]
     },
     "execution_count": 51,
     "metadata": {},
     "output_type": "execute_result"
    }
   ],
   "source": [
    "anime.genre.value_counts()"
   ]
  },
  {
   "cell_type": "code",
   "execution_count": 52,
   "metadata": {},
   "outputs": [
    {
     "data": {
      "text/plain": [
       "Hentai                                  0.066976\n",
       "Comedy                                  0.042643\n",
       "Music                                   0.024658\n",
       "Kids                                    0.016276\n",
       "Comedy, Slice of Life                   0.014567\n",
       "                                          ...   \n",
       "Demons, Historical                      0.000081\n",
       "Comedy, Ecchi, Magic, Parody            0.000081\n",
       "Music, School, Shoujo                   0.000081\n",
       "Hentai, Romance, School, Sports         0.000081\n",
       "Fantasy, Kids, School, Slice of Life    0.000081\n",
       "Name: genre, Length: 3272, dtype: float64"
      ]
     },
     "execution_count": 52,
     "metadata": {},
     "output_type": "execute_result"
    }
   ],
   "source": [
    "anime.genre.value_counts(normalize=True)"
   ]
  },
  {
   "cell_type": "code",
   "execution_count": 62,
   "metadata": {},
   "outputs": [
    {
     "data": {
      "text/plain": [
       "(9436, 11)"
      ]
     },
     "execution_count": 62,
     "metadata": {},
     "output_type": "execute_result"
    }
   ],
   "source": [
    "# number of anime with multiple genres \n",
    "anime[anime.genre.str.contains(\",\")].shape"
   ]
  },
  {
   "cell_type": "code",
   "execution_count": 55,
   "metadata": {},
   "outputs": [
    {
     "name": "stdout",
     "output_type": "stream",
     "text": [
      "36356 values\n",
      "44 unique values\n"
     ]
    }
   ],
   "source": [
    "# explore the variety of genre within anime\n",
    "log=[j.strip(r\" \") for i in anime.genre.str.lower().dropna().values for j in i.split(\",\")]\n",
    "print(len(log), 'values')\n",
    "print(len(set(log)), 'unique values')"
   ]
  },
  {
   "cell_type": "code",
   "execution_count": 57,
   "metadata": {},
   "outputs": [
    {
     "data": {
      "text/plain": [
       "comedy           4649\n",
       "action           2849\n",
       "adventure        2350\n",
       "fantasy          2315\n",
       "sci-fi           2070\n",
       "drama            2018\n",
       "shounen          1712\n",
       "kids             1610\n",
       "romance          1466\n",
       "slice of life    1224\n",
       "school           1222\n",
       "hentai           1141\n",
       "supernatural     1038\n",
       "mecha             944\n",
       "music             862\n",
       "historical        808\n",
       "magic             779\n",
       "ecchi             637\n",
       "shoujo            604\n",
       "seinen            547\n",
       "sports            543\n",
       "mystery           495\n",
       "super power       465\n",
       "military          426\n",
       "parody            408\n",
       "space             381\n",
       "horror            369\n",
       "harem             319\n",
       "demons            294\n",
       "martial arts      266\n",
       "dementia          243\n",
       "psychological     229\n",
       "police            197\n",
       "game              181\n",
       "samurai           148\n",
       "vampire           102\n",
       "thriller           87\n",
       "cars               72\n",
       "shounen ai         65\n",
       "shoujo ai          55\n",
       "josei              54\n",
       "yuri               42\n",
       "yaoi               39\n",
       "short              31\n",
       "dtype: int64"
      ]
     },
     "execution_count": 57,
     "metadata": {},
     "output_type": "execute_result"
    }
   ],
   "source": [
    "# frequency of each genre mentioned in the dataset\n",
    "pd.Series(log).value_counts()"
   ]
  },
  {
   "cell_type": "code",
   "execution_count": 60,
   "metadata": {},
   "outputs": [],
   "source": [
    "# splitting the multiple genre\n",
    "dummies=anime.genre.str.split(\", \", expand=True)"
   ]
  },
  {
   "cell_type": "code",
   "execution_count": 61,
   "metadata": {},
   "outputs": [
    {
     "data": {
      "text/html": [
       "<div>\n",
       "<style scoped>\n",
       "    .dataframe tbody tr th:only-of-type {\n",
       "        vertical-align: middle;\n",
       "    }\n",
       "\n",
       "    .dataframe tbody tr th {\n",
       "        vertical-align: top;\n",
       "    }\n",
       "\n",
       "    .dataframe thead th {\n",
       "        text-align: right;\n",
       "    }\n",
       "</style>\n",
       "<table border=\"1\" class=\"dataframe\">\n",
       "  <thead>\n",
       "    <tr style=\"text-align: right;\">\n",
       "      <th></th>\n",
       "      <th>Action</th>\n",
       "      <th>Adventure</th>\n",
       "      <th>Cars</th>\n",
       "      <th>Comedy</th>\n",
       "      <th>Dementia</th>\n",
       "      <th>Demons</th>\n",
       "      <th>Drama</th>\n",
       "      <th>Ecchi</th>\n",
       "      <th>Fantasy</th>\n",
       "      <th>Game</th>\n",
       "      <th>...</th>\n",
       "      <th>Shounen Ai</th>\n",
       "      <th>Slice of Life</th>\n",
       "      <th>Space</th>\n",
       "      <th>Sports</th>\n",
       "      <th>Super Power</th>\n",
       "      <th>Supernatural</th>\n",
       "      <th>Thriller</th>\n",
       "      <th>Vampire</th>\n",
       "      <th>Yaoi</th>\n",
       "      <th>Yuri</th>\n",
       "    </tr>\n",
       "  </thead>\n",
       "  <tbody>\n",
       "    <tr>\n",
       "      <th>0</th>\n",
       "      <td>0</td>\n",
       "      <td>0</td>\n",
       "      <td>0</td>\n",
       "      <td>0</td>\n",
       "      <td>0</td>\n",
       "      <td>0</td>\n",
       "      <td>1</td>\n",
       "      <td>0</td>\n",
       "      <td>0</td>\n",
       "      <td>0</td>\n",
       "      <td>...</td>\n",
       "      <td>0</td>\n",
       "      <td>0</td>\n",
       "      <td>0</td>\n",
       "      <td>0</td>\n",
       "      <td>0</td>\n",
       "      <td>1</td>\n",
       "      <td>0</td>\n",
       "      <td>0</td>\n",
       "      <td>0</td>\n",
       "      <td>0</td>\n",
       "    </tr>\n",
       "    <tr>\n",
       "      <th>1</th>\n",
       "      <td>1</td>\n",
       "      <td>1</td>\n",
       "      <td>0</td>\n",
       "      <td>0</td>\n",
       "      <td>0</td>\n",
       "      <td>0</td>\n",
       "      <td>1</td>\n",
       "      <td>0</td>\n",
       "      <td>1</td>\n",
       "      <td>0</td>\n",
       "      <td>...</td>\n",
       "      <td>0</td>\n",
       "      <td>0</td>\n",
       "      <td>0</td>\n",
       "      <td>0</td>\n",
       "      <td>0</td>\n",
       "      <td>0</td>\n",
       "      <td>0</td>\n",
       "      <td>0</td>\n",
       "      <td>0</td>\n",
       "      <td>0</td>\n",
       "    </tr>\n",
       "    <tr>\n",
       "      <th>2</th>\n",
       "      <td>1</td>\n",
       "      <td>0</td>\n",
       "      <td>0</td>\n",
       "      <td>1</td>\n",
       "      <td>0</td>\n",
       "      <td>0</td>\n",
       "      <td>0</td>\n",
       "      <td>0</td>\n",
       "      <td>0</td>\n",
       "      <td>0</td>\n",
       "      <td>...</td>\n",
       "      <td>0</td>\n",
       "      <td>0</td>\n",
       "      <td>0</td>\n",
       "      <td>0</td>\n",
       "      <td>0</td>\n",
       "      <td>0</td>\n",
       "      <td>0</td>\n",
       "      <td>0</td>\n",
       "      <td>0</td>\n",
       "      <td>0</td>\n",
       "    </tr>\n",
       "    <tr>\n",
       "      <th>3</th>\n",
       "      <td>0</td>\n",
       "      <td>0</td>\n",
       "      <td>0</td>\n",
       "      <td>0</td>\n",
       "      <td>0</td>\n",
       "      <td>0</td>\n",
       "      <td>0</td>\n",
       "      <td>0</td>\n",
       "      <td>0</td>\n",
       "      <td>0</td>\n",
       "      <td>...</td>\n",
       "      <td>0</td>\n",
       "      <td>0</td>\n",
       "      <td>0</td>\n",
       "      <td>0</td>\n",
       "      <td>0</td>\n",
       "      <td>0</td>\n",
       "      <td>1</td>\n",
       "      <td>0</td>\n",
       "      <td>0</td>\n",
       "      <td>0</td>\n",
       "    </tr>\n",
       "    <tr>\n",
       "      <th>4</th>\n",
       "      <td>1</td>\n",
       "      <td>0</td>\n",
       "      <td>0</td>\n",
       "      <td>1</td>\n",
       "      <td>0</td>\n",
       "      <td>0</td>\n",
       "      <td>0</td>\n",
       "      <td>0</td>\n",
       "      <td>0</td>\n",
       "      <td>0</td>\n",
       "      <td>...</td>\n",
       "      <td>0</td>\n",
       "      <td>0</td>\n",
       "      <td>0</td>\n",
       "      <td>0</td>\n",
       "      <td>0</td>\n",
       "      <td>0</td>\n",
       "      <td>0</td>\n",
       "      <td>0</td>\n",
       "      <td>0</td>\n",
       "      <td>0</td>\n",
       "    </tr>\n",
       "    <tr>\n",
       "      <th>...</th>\n",
       "      <td>...</td>\n",
       "      <td>...</td>\n",
       "      <td>...</td>\n",
       "      <td>...</td>\n",
       "      <td>...</td>\n",
       "      <td>...</td>\n",
       "      <td>...</td>\n",
       "      <td>...</td>\n",
       "      <td>...</td>\n",
       "      <td>...</td>\n",
       "      <td>...</td>\n",
       "      <td>...</td>\n",
       "      <td>...</td>\n",
       "      <td>...</td>\n",
       "      <td>...</td>\n",
       "      <td>...</td>\n",
       "      <td>...</td>\n",
       "      <td>...</td>\n",
       "      <td>...</td>\n",
       "      <td>...</td>\n",
       "      <td>...</td>\n",
       "    </tr>\n",
       "    <tr>\n",
       "      <th>12283</th>\n",
       "      <td>0</td>\n",
       "      <td>0</td>\n",
       "      <td>0</td>\n",
       "      <td>0</td>\n",
       "      <td>0</td>\n",
       "      <td>0</td>\n",
       "      <td>0</td>\n",
       "      <td>0</td>\n",
       "      <td>0</td>\n",
       "      <td>0</td>\n",
       "      <td>...</td>\n",
       "      <td>0</td>\n",
       "      <td>0</td>\n",
       "      <td>0</td>\n",
       "      <td>0</td>\n",
       "      <td>0</td>\n",
       "      <td>0</td>\n",
       "      <td>0</td>\n",
       "      <td>0</td>\n",
       "      <td>0</td>\n",
       "      <td>0</td>\n",
       "    </tr>\n",
       "    <tr>\n",
       "      <th>12284</th>\n",
       "      <td>0</td>\n",
       "      <td>0</td>\n",
       "      <td>0</td>\n",
       "      <td>0</td>\n",
       "      <td>0</td>\n",
       "      <td>0</td>\n",
       "      <td>0</td>\n",
       "      <td>0</td>\n",
       "      <td>0</td>\n",
       "      <td>0</td>\n",
       "      <td>...</td>\n",
       "      <td>0</td>\n",
       "      <td>0</td>\n",
       "      <td>0</td>\n",
       "      <td>0</td>\n",
       "      <td>0</td>\n",
       "      <td>0</td>\n",
       "      <td>0</td>\n",
       "      <td>0</td>\n",
       "      <td>0</td>\n",
       "      <td>0</td>\n",
       "    </tr>\n",
       "    <tr>\n",
       "      <th>12285</th>\n",
       "      <td>0</td>\n",
       "      <td>0</td>\n",
       "      <td>0</td>\n",
       "      <td>0</td>\n",
       "      <td>0</td>\n",
       "      <td>0</td>\n",
       "      <td>0</td>\n",
       "      <td>0</td>\n",
       "      <td>0</td>\n",
       "      <td>0</td>\n",
       "      <td>...</td>\n",
       "      <td>0</td>\n",
       "      <td>0</td>\n",
       "      <td>0</td>\n",
       "      <td>0</td>\n",
       "      <td>0</td>\n",
       "      <td>0</td>\n",
       "      <td>0</td>\n",
       "      <td>0</td>\n",
       "      <td>0</td>\n",
       "      <td>0</td>\n",
       "    </tr>\n",
       "    <tr>\n",
       "      <th>12286</th>\n",
       "      <td>0</td>\n",
       "      <td>0</td>\n",
       "      <td>0</td>\n",
       "      <td>0</td>\n",
       "      <td>0</td>\n",
       "      <td>0</td>\n",
       "      <td>0</td>\n",
       "      <td>0</td>\n",
       "      <td>0</td>\n",
       "      <td>0</td>\n",
       "      <td>...</td>\n",
       "      <td>0</td>\n",
       "      <td>0</td>\n",
       "      <td>0</td>\n",
       "      <td>0</td>\n",
       "      <td>0</td>\n",
       "      <td>0</td>\n",
       "      <td>0</td>\n",
       "      <td>0</td>\n",
       "      <td>0</td>\n",
       "      <td>0</td>\n",
       "    </tr>\n",
       "    <tr>\n",
       "      <th>12287</th>\n",
       "      <td>0</td>\n",
       "      <td>0</td>\n",
       "      <td>0</td>\n",
       "      <td>0</td>\n",
       "      <td>0</td>\n",
       "      <td>0</td>\n",
       "      <td>0</td>\n",
       "      <td>0</td>\n",
       "      <td>0</td>\n",
       "      <td>0</td>\n",
       "      <td>...</td>\n",
       "      <td>0</td>\n",
       "      <td>0</td>\n",
       "      <td>0</td>\n",
       "      <td>0</td>\n",
       "      <td>0</td>\n",
       "      <td>0</td>\n",
       "      <td>0</td>\n",
       "      <td>0</td>\n",
       "      <td>0</td>\n",
       "      <td>0</td>\n",
       "    </tr>\n",
       "  </tbody>\n",
       "</table>\n",
       "<p>12288 rows × 44 columns</p>\n",
       "</div>"
      ],
      "text/plain": [
       "       Action  Adventure  Cars  Comedy  Dementia  Demons  Drama  Ecchi  \\\n",
       "0           0          0     0       0         0       0      1      0   \n",
       "1           1          1     0       0         0       0      1      0   \n",
       "2           1          0     0       1         0       0      0      0   \n",
       "3           0          0     0       0         0       0      0      0   \n",
       "4           1          0     0       1         0       0      0      0   \n",
       "...       ...        ...   ...     ...       ...     ...    ...    ...   \n",
       "12283       0          0     0       0         0       0      0      0   \n",
       "12284       0          0     0       0         0       0      0      0   \n",
       "12285       0          0     0       0         0       0      0      0   \n",
       "12286       0          0     0       0         0       0      0      0   \n",
       "12287       0          0     0       0         0       0      0      0   \n",
       "\n",
       "       Fantasy  Game  ...  Shounen Ai  Slice of Life  Space  Sports  \\\n",
       "0            0     0  ...           0              0      0       0   \n",
       "1            1     0  ...           0              0      0       0   \n",
       "2            0     0  ...           0              0      0       0   \n",
       "3            0     0  ...           0              0      0       0   \n",
       "4            0     0  ...           0              0      0       0   \n",
       "...        ...   ...  ...         ...            ...    ...     ...   \n",
       "12283        0     0  ...           0              0      0       0   \n",
       "12284        0     0  ...           0              0      0       0   \n",
       "12285        0     0  ...           0              0      0       0   \n",
       "12286        0     0  ...           0              0      0       0   \n",
       "12287        0     0  ...           0              0      0       0   \n",
       "\n",
       "       Super Power  Supernatural  Thriller  Vampire  Yaoi  Yuri  \n",
       "0                0             1         0        0     0     0  \n",
       "1                0             0         0        0     0     0  \n",
       "2                0             0         0        0     0     0  \n",
       "3                0             0         1        0     0     0  \n",
       "4                0             0         0        0     0     0  \n",
       "...            ...           ...       ...      ...   ...   ...  \n",
       "12283            0             0         0        0     0     0  \n",
       "12284            0             0         0        0     0     0  \n",
       "12285            0             0         0        0     0     0  \n",
       "12286            0             0         0        0     0     0  \n",
       "12287            0             0         0        0     0     0  \n",
       "\n",
       "[12288 rows x 44 columns]"
      ]
     },
     "execution_count": 61,
     "metadata": {},
     "output_type": "execute_result"
    }
   ],
   "source": [
    "# making dummies columns\n",
    "dummies=dummies.stack().str.get_dummies().sum(level=0)"
   ]
  },
  {
   "cell_type": "markdown",
   "metadata": {},
   "source": [
    "## Exploratory Data Analysis"
   ]
  },
  {
   "cell_type": "code",
   "execution_count": 51,
   "metadata": {},
   "outputs": [
    {
     "data": {
      "application/vnd.jupyter.widget-view+json": {
       "model_id": "ca998492eea348728979a487ecfd622a",
       "version_major": 2,
       "version_minor": 0
      },
      "text/plain": [
       "HBox(children=(FloatProgress(value=0.0, description='Summarize dataset', max=24.0, style=ProgressStyle(descrip…"
      ]
     },
     "metadata": {},
     "output_type": "display_data"
    },
    {
     "name": "stdout",
     "output_type": "stream",
     "text": [
      "\n"
     ]
    },
    {
     "data": {
      "application/vnd.jupyter.widget-view+json": {
       "model_id": "71d78f9f4f624272b7cb2e2bdffd4571",
       "version_major": 2,
       "version_minor": 0
      },
      "text/plain": [
       "HBox(children=(FloatProgress(value=0.0, description='Generate report structure', max=1.0, style=ProgressStyle(…"
      ]
     },
     "metadata": {},
     "output_type": "display_data"
    },
    {
     "name": "stdout",
     "output_type": "stream",
     "text": [
      "\n"
     ]
    },
    {
     "data": {
      "application/vnd.jupyter.widget-view+json": {
       "model_id": "15df1e2c17624e489944188c4bf27b13",
       "version_major": 2,
       "version_minor": 0
      },
      "text/plain": [
       "HBox(children=(FloatProgress(value=0.0, description='Render HTML', max=1.0, style=ProgressStyle(description_wi…"
      ]
     },
     "metadata": {},
     "output_type": "display_data"
    },
    {
     "name": "stdout",
     "output_type": "stream",
     "text": [
      "\n"
     ]
    },
    {
     "data": {
      "application/vnd.jupyter.widget-view+json": {
       "model_id": "e70a5493cdc746e2b42c0d70f2b2b06f",
       "version_major": 2,
       "version_minor": 0
      },
      "text/plain": [
       "HBox(children=(FloatProgress(value=0.0, description='Export report to file', max=1.0, style=ProgressStyle(desc…"
      ]
     },
     "metadata": {},
     "output_type": "display_data"
    },
    {
     "name": "stdout",
     "output_type": "stream",
     "text": [
      "\n"
     ]
    }
   ],
   "source": [
    "from pandas_profiling import ProfileReport\n",
    "prof = ProfileReport(anime)\n",
    "prof.to_file(output_file='output.html')"
   ]
  }
 ],
 "metadata": {
  "kernelspec": {
   "display_name": "Python 3",
   "language": "python",
   "name": "python3"
  },
  "language_info": {
   "codemirror_mode": {
    "name": "ipython",
    "version": 3
   },
   "file_extension": ".py",
   "mimetype": "text/x-python",
   "name": "python",
   "nbconvert_exporter": "python",
   "pygments_lexer": "ipython3",
   "version": "3.8.2"
  }
 },
 "nbformat": 4,
 "nbformat_minor": 4
}
